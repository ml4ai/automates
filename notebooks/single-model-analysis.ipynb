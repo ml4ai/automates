{
 "cells": [
  {
   "cell_type": "markdown",
   "metadata": {},
   "source": [
    "# Single Model Assisted Sensitivity Analysis\n",
    "This notebook focuses on answering the question: how can AutoMATES leverage the information extracted from source code and free text to improve a modeler's ability to visualize input sensitivity in a single model?\n",
    "\n",
    "In this notebook we will demonstrate AutoMATES ability to analyze the Priestley-Taylor model of Evapotranspiration from the DSSAT codebase."
   ]
  },
  {
   "cell_type": "markdown",
   "metadata": {},
   "source": [
    "First, we import a few necessary items."
   ]
  },
  {
   "cell_type": "code",
   "execution_count": null,
   "metadata": {
    "scrolled": true
   },
   "outputs": [],
   "source": [
    "%load_ext autoreload\n",
    "%autoreload 2\n",
    "%config InlineBackend.figure_format = 'retina'\n",
    "import jupyter_tools as jt"
   ]
  },
  {
   "cell_type": "markdown",
   "metadata": {},
   "source": [
    "The code for the Priestley-Taylor model as implemented in DSSAT is shown below."
   ]
  },
  {
   "cell_type": "code",
   "execution_count": null,
   "metadata": {
    "scrolled": true
   },
   "outputs": [],
   "source": [
    "jt.display_code(\"../tests/data/program_analysis/PETPT.for\")"
   ]
  },
  {
   "cell_type": "markdown",
   "metadata": {},
   "source": [
    "We first create a GroundedFunctionNetwork object."
   ]
  },
  {
   "cell_type": "code",
   "execution_count": null,
   "metadata": {},
   "outputs": [],
   "source": [
    "from model_analysis.networks import GroundedFunctionNetwork\n",
    "G = GroundedFunctionNetwork.from_fortran_file(\n",
    "    \"../tests/data/program_analysis/PETPT.for\"\n",
    ")"
   ]
  },
  {
   "cell_type": "markdown",
   "metadata": {},
   "source": [
    "We can visualize it as a computational graph..."
   ]
  },
  {
   "cell_type": "code",
   "execution_count": null,
   "metadata": {},
   "outputs": [],
   "source": [
    "jt.display(G.to_AGraph())"
   ]
  },
  {
   "cell_type": "markdown",
   "metadata": {},
   "source": [
    "...or a variable dependency graph (we also call it a causal analysis graph)"
   ]
  },
  {
   "cell_type": "code",
   "execution_count": null,
   "metadata": {},
   "outputs": [],
   "source": [
    "jt.display(G.CAG_to_AGraph())"
   ]
  },
  {
   "cell_type": "markdown",
   "metadata": {},
   "source": [
    "Now we are ready to run sensitivity analysis on this GroundedFunctionNetwork (GrFN) object."
   ]
  },
  {
   "cell_type": "markdown",
   "metadata": {},
   "source": [
    "### Sampling over the whole range\n",
    "\n",
    "We first sample across the whole allowed range for each input variable, over five orders of magnitude of sample sizes: $(10^1, 10^2, 10^3, 10^4, 10^5)$."
   ]
  },
  {
   "cell_type": "code",
   "execution_count": null,
   "metadata": {},
   "outputs": [],
   "source": [
    "from model_analysis.SensitivityModel import SensitivityModel\n",
    "from model_analysis.visualization import SensitivityVisualizer\n",
    "\n",
    "# We run the analysis for some orders of magnitude.\n",
    "sample_sizes = [10**x for x in range(1, 6)]\n",
    "\n",
    "bounds = {\n",
    "    'tmax':[-10.0, 50.0],\n",
    "    'tmin':[0.0, 23.9],\n",
    "    'srad': [2.45, 27.8],\n",
    "    'msalb': [0.18, 0.2],\n",
    "    'xhlai': [0.0, 4.77]\n",
    "}\n",
    "\n",
    "SM = SensitivityModel(G, bounds, sample_sizes, 'Sobol', model_name = 'PETPT')\n",
    "\n",
    "indices = SM.generate_indices()"
   ]
  },
  {
   "cell_type": "markdown",
   "metadata": {},
   "source": [
    "Below we show a plot of the S1 sensitivity indices for individual variables vs. sample size. We see that as we take more samples, the value of the S1 indices stabilize."
   ]
  },
  {
   "cell_type": "code",
   "execution_count": null,
   "metadata": {},
   "outputs": [],
   "source": [
    "SM.sensitivity_plots(indices, 'S1')"
   ]
  },
  {
   "cell_type": "markdown",
   "metadata": {},
   "source": [
    "In the plot below, we see a heatmap of the $S_2$ sensitivity indices for pairs of the input variables."
   ]
  },
  {
   "cell_type": "code",
   "execution_count": null,
   "metadata": {},
   "outputs": [],
   "source": [
    "SM.sensitivity_plots(indices, 'S2')"
   ]
  },
  {
   "cell_type": "markdown",
   "metadata": {},
   "source": [
    "### Analysis of the results for sampling over the whole range of allowed values.\n",
    "\n",
    "As we can see from the S1 plot above, it appears that TMAX and SRAD play critical roles in determining the uncertainty of the output here.\n",
    "We can inspect the source code to try and determine why these two variables play such a significant role.\n",
    "Below is a code-block from the PETPT Fortran source code:\n",
    "\n",
    "```fortran\n",
    "      SLANG = SRAD*23.923\n",
    "      EEQ = SLANG*(2.04E-4-1.83E-4*ALBEDO)*(TD+29.0)\n",
    "      EO = EEQ*1.1\n",
    "\n",
    "      IF (TMAX .GT. 35.0) THEN\n",
    "        EO = EEQ*((TMAX-35.0)*0.05+1.1)\n",
    "      ELSE IF (TMAX .LT. 5.0) THEN\n",
    "        EO = EEQ*0.01*EXP(0.18*(TMAX+20.0))\n",
    "      ENDIF\n",
    "\n",
    "      EO = MAX(EO,0.0001)\n",
    "```\n",
    "\n",
    "In this code-block we can see that TMAX plays a critical role at the end of the PETPT function - that of dividing the function into three piecewise components based upon the value of TMAX.\n",
    "AutoMATES can detect this using static code analysis on the conditional variables included in the model code.\n",
    "\n",
    "Using this along with text-reading knowledge of the parameter bounds for TMAX,\n",
    "we can divide the total range of values for TMAX into three separate bound ranges that we can use for further analysis:\n",
    "\n",
    "1. -10.0ºC -- 5.0ºC\n",
    "2. 5.0ºC -- 35.0ºC\n",
    "3. 35.0ºC -- 55.0ºC\n",
    "\n",
    "Below we show the S1/S2 results for these three different bound ranges."
   ]
  },
  {
   "cell_type": "markdown",
   "metadata": {},
   "source": [
    "### Bound range 1: $\\mathrm{TMAX} \\in [5, 35)$ "
   ]
  },
  {
   "cell_type": "code",
   "execution_count": null,
   "metadata": {},
   "outputs": [],
   "source": [
    "# Choosing the bound set\n",
    "SM.bounds[\"tmax\"] = [5.0, 34.99]\n",
    "indices = SM.generate_indices()\n",
    "SM.sensitivity_plots(indices, \"S1\")"
   ]
  },
  {
   "cell_type": "code",
   "execution_count": null,
   "metadata": {},
   "outputs": [],
   "source": [
    "SM.sensitivity_plots(indices, \"S2\")"
   ]
  },
  {
   "cell_type": "markdown",
   "metadata": {},
   "source": [
    "### Result set 1\n",
    "Notice for this first result set that we are working with non-extreme values of TMAX. When the values for TMAX are no longer extreme, we see that it drops off significantly from the S1 indices and allows other variables to show how much more of an important role they play in determining model output.\n",
    "\n",
    "#### Key insights\n",
    "- SRAD now dominates all other uncertainty sources in the S1 indices\n",
    "- The interaction between SRAD and XHLAI is now shown to be an important S2 indice"
   ]
  },
  {
   "cell_type": "markdown",
   "metadata": {},
   "source": [
    "### Bound range 2: $\\mathrm{TMAX} \\in [-10, 5)$ "
   ]
  },
  {
   "cell_type": "code",
   "execution_count": null,
   "metadata": {},
   "outputs": [],
   "source": [
    "SM.bounds[\"tmax\"] = [-10.0, 4.99]"
   ]
  },
  {
   "cell_type": "code",
   "execution_count": null,
   "metadata": {},
   "outputs": [],
   "source": [
    "indices = SM.generate_indices()"
   ]
  },
  {
   "cell_type": "code",
   "execution_count": null,
   "metadata": {},
   "outputs": [],
   "source": [
    "SM.sensitivity_plots(indices, \"S1\")"
   ]
  },
  {
   "cell_type": "code",
   "execution_count": null,
   "metadata": {},
   "outputs": [],
   "source": [
    "SM.sensitivity_plots(indices, \"S2\")"
   ]
  },
  {
   "cell_type": "markdown",
   "metadata": {},
   "source": [
    "### Result set 2\n",
    "For this result set we are looking at the extreme lower end of values for TMAX. Here we see that TMAX is an even greater contributor to S1 sensitivity than over the whole range. This is likely due to the scaling of EO done by an exponential term involving TMAX in this portion of the piecewise function."
   ]
  },
  {
   "cell_type": "markdown",
   "metadata": {},
   "source": [
    "### Bound range 3: $\\mathrm{TMAX} \\in [35, 55]$ "
   ]
  },
  {
   "cell_type": "code",
   "execution_count": null,
   "metadata": {},
   "outputs": [],
   "source": [
    "SM.bounds[\"tmax\"] = [35, 55]\n",
    "indices = SM.generate_indices()"
   ]
  },
  {
   "cell_type": "code",
   "execution_count": null,
   "metadata": {},
   "outputs": [],
   "source": [
    "SM.sensitivity_plots(indices, 'S1')"
   ]
  },
  {
   "cell_type": "code",
   "execution_count": null,
   "metadata": {},
   "outputs": [],
   "source": [
    "SM.sensitivity_plots(indices, 'S2')"
   ]
  },
  {
   "cell_type": "markdown",
   "metadata": {},
   "source": [
    "### Result set 3\n",
    "Here we are testing the extreme high end of values for TMAX. For this bound range we are now observing:\n",
    "- SRAD is the largest contributor to the S1 sensitivity\n",
    "- TMAX is still a large contributor to the S1 sensitivity\n",
    "- The total S1 sensitivity has increased dramatically, causing a large decrease in S2 total sensitivity which lowers the impact of the XHLAI/MSALB interaction term. This is likely due to the scaling of EO by TMAX in this branch of the piecewise function"
   ]
  },
  {
   "cell_type": "markdown",
   "metadata": {},
   "source": [
    "## Take-home Message\n",
    "\n",
    "In this demo we have shown how an initial sensitivity analysis of a scientific model can inform which variables to search for when doing single-variable range analysis.\n",
    "AutoMATES enables us to search the source code of the model automatically to determine where in the code variables with high S1 sensitivities cause functional differences.\n",
    "Using the parameter estimation from the TR component of AutoMATES and static progam analysis from the PA component of AutoMATES we can then perform a second set of sensitivity analysis upon a broken up range of the variable in question.\n",
    "This allows AutoMATES to deliver deeper insights about the sensitivity of a scientific model to its inputs without requiring a modeler to:\n",
    "\n",
    "- manually trek through the model code searching for the variable interactions of highest interest,\n",
    "- find correct bound parameters for variables of interest in the literature, and\n",
    "- create new sensitivity analysis experiments as appropriate for the new ranges of a variable of interest"
   ]
  },
  {
   "cell_type": "code",
   "execution_count": null,
   "metadata": {},
   "outputs": [],
   "source": []
  }
 ],
 "metadata": {
  "kernelspec": {
   "display_name": "Python 3",
   "language": "python",
   "name": "python3"
  },
  "language_info": {
   "codemirror_mode": {
    "name": "ipython",
    "version": 3
   },
   "file_extension": ".py",
   "mimetype": "text/x-python",
   "name": "python",
   "nbconvert_exporter": "python",
   "pygments_lexer": "ipython3",
   "version": "3.7.7"
  }
 },
 "nbformat": 4,
 "nbformat_minor": 4
}
