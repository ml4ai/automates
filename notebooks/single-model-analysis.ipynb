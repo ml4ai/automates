{
 "cells": [
  {
   "cell_type": "markdown",
   "metadata": {},
   "source": [
    "# Single Model Assisted Sensitivity Analysis\n",
    "This notebook focuses on answering the question: how can AutoMATES leverage the information extracted from source code and free text to improve a modeler's ability to visualize input sensitivity in a single model?\n",
    "\n",
    "In this notebook we will demonstrate AutoMATES ability to analyze the Priestley-Taylor model of Evapotranspiration from the DSSAT codebase.\n",
    "\n",
    "## Visualization goals\n",
    "- Show that S1 analysis over the whole range of all variables demonstrates a high S1 value for TMAX\n",
    "- Show that we can use static program analysis to determine that TMAX controls a piecewise function\n",
    "- Show that we can use evidence from TR when breaking up the bound range of TMAX to reflect the piecewise nature of the function\n",
    "- Show the updated S1/S2 plots for the broken down ranges"
   ]
  },
  {
   "cell_type": "code",
   "execution_count": null,
   "metadata": {},
   "outputs": [],
   "source": [
    "%load_ext autoreload\n",
    "%autoreload 2"
   ]
  },
  {
   "cell_type": "code",
   "execution_count": null,
   "metadata": {},
   "outputs": [],
   "source": [
    "from model_analysis.SensitivityModel import SensitivityModel\n",
    "from model_analysis.visualization import SensitivityVisualizer\n",
    "\n",
    "# List of Sample Sizes\n",
    "sample_list = [10**x for x in range(1, 6)]\n",
    "\n",
    "# Using the full-range bounds at first\n",
    "bounds = {\n",
    "        'tmax':[-10.0, 50.0],\n",
    "        'tmin':[0.0, 23.9],\n",
    "        'srad': [2.45, 27.8],\n",
    "        'msalb': [0.18, 0.2],\n",
    "        'xhlai': [0.0, 4.77]\n",
    "    }\n",
    "\n",
    "SM = SensitivityModel('PETPT', bounds, sample_list, 'Sobol')\n",
    "\n",
    "df_PETPT_S1, df_PETPT_ST = SM.generate_dataframe()\n",
    "\n",
    "indices_lst = SM.generate_indices()"
   ]
  },
  {
   "cell_type": "code",
   "execution_count": null,
   "metadata": {},
   "outputs": [],
   "source": [
    "SM.sensitivity_plots(indices_lst, 'S1')"
   ]
  },
  {
   "cell_type": "code",
   "execution_count": null,
   "metadata": {},
   "outputs": [],
   "source": [
    "SM.sensitivity_plots(indices_lst, 'S2')"
   ]
  },
  {
   "cell_type": "markdown",
   "metadata": {},
   "source": [
    "### Analysis of the above results\n",
    "As we can see from the S1 plot abovwe, it appears that TMAX and SRAD play critical roles in determining the uncertainty of the output here. We can inspect the source code using AutoMATES to try and determine why these two variables play such a significant role. Below is a code-block from the PETPT Fortran source code:\n",
    "```fortran\n",
    "      SLANG = SRAD*23.923\n",
    "      EEQ = SLANG*(2.04E-4-1.83E-4*ALBEDO)*(TD+29.0)\n",
    "      EO = EEQ*1.1\n",
    "\n",
    "      IF (TMAX .GT. 35.0) THEN\n",
    "        EO = EEQ*((TMAX-35.0)*0.05+1.1)\n",
    "      ELSE IF (TMAX .LT. 5.0) THEN\n",
    "        EO = EEQ*0.01*EXP(0.18*(TMAX+20.0))\n",
    "      ENDIF\n",
    "\n",
    "      EO = MAX(EO,0.0001)\n",
    "```\n",
    "In this code-block we can see that TMAX plays a critical role at the end of the PETPT function. This role is to divide the function into three piecewise components based upon the value of TMAX. AutoMATES can detect this using static code analysis on the conditional variables included in the model code.\n",
    "\n",
    "Using this along with text-reading knowledge of the parameter bounds for TMAX, we can divide the total range of values for TMAX into three separate bound ranges that we can use for further analysis:\n",
    "1. -10.0ºC -- 5.0ºC\n",
    "2. 5.0ºC -- 35.0ºC\n",
    "3. 35.0ºC -- 55.0ºC\n",
    "\n",
    "Below we show the S1/S2 results for these three different bound ranges."
   ]
  },
  {
   "cell_type": "code",
   "execution_count": null,
   "metadata": {},
   "outputs": [],
   "source": [
    "# Choosing the bound set\n",
    "bounds = {\n",
    "        'tmax':[5.0, 35.0],\n",
    "        'tmin':[0.0, 23.9],\n",
    "        'srad': [2.45, 27.8],\n",
    "        'msalb': [0.18, 0.2],\n",
    "        'xhlai': [0.0, 4.77]\n",
    "    }\n",
    "\n",
    "SM = SensitivityModel(model, bounds, sample_list, method)\n",
    "df_PETPT_S1, df_PETPT_ST = SM.generate_dataframe()\n",
    "indices_lst = SM.generate_indices()\n",
    "\n",
    "SM.sensitivity_plots(indices_lst, \"S1\")\n",
    "SM.sensitivity_plots(indices_lst, \"S2\")"
   ]
  },
  {
   "cell_type": "markdown",
   "metadata": {},
   "source": [
    "### Result set 1\n",
    "Notice for this first result set that we are working with non-extreme values of TMAX. When the values for TMAX are no longer extreme, we see that it drops off significantly from the S1 indices and allows other variables to show how much more of an important role they play in determining model output.\n",
    "\n",
    "#### Key insights\n",
    "- SRAD now dominates all other uncertainty sources in the S1 indices\n",
    "- The interaction between SRAD and XHLAI is now shown to be an important S2 indice"
   ]
  },
  {
   "cell_type": "code",
   "execution_count": null,
   "metadata": {},
   "outputs": [],
   "source": [
    "bounds = {\n",
    "        'tmax':[-10.0, 4.99],\n",
    "        'tmin':[0.0, 23.9],\n",
    "        'srad': [2.45, 27.8],\n",
    "        'msalb': [0.18, 0.2],\n",
    "        'xhlai': [0.0, 4.77]\n",
    "    }\n",
    "\n",
    "SM = SensitivityModel(model, bounds, sample_list, method)\n",
    "\n",
    "df_PETPT_S1, df_PETPT_ST = SM.generate_dataframe()\n",
    "\n",
    "indices_lst = SM.generate_indices()\n",
    "\n",
    "SM.sensitivity_plots(indices_lst, \"S1\")\n",
    "SM.sensitivity_plots(indices_lst, \"S2\")"
   ]
  },
  {
   "cell_type": "markdown",
   "metadata": {},
   "source": [
    "### Result set 2\n",
    "For this result set we are looking at the extreme lower end of values for TMAX. Here we see that TMAX is an even greater contributor to S1 sensitivity than over the whole range. This is likely due to the scaling of EO done by an exponential term involving TMAX in this portion of the piecewise function."
   ]
  },
  {
   "cell_type": "code",
   "execution_count": null,
   "metadata": {},
   "outputs": [],
   "source": [
    "bounds = {\n",
    "        'tmax':[35.01, 55.0],\n",
    "        'tmin':[0.0, 23.9],\n",
    "        'srad': [2.45, 27.8],\n",
    "        'msalb': [0.18, 0.2],\n",
    "        'xhlai': [0.0, 4.77]\n",
    "    }\n",
    "\n",
    "SM = SensitivityModel(model, bounds, sample_list, method)\n",
    "\n",
    "df_PETPT_S1, df_PETPT_ST = SM.generate_dataframe()\n",
    "\n",
    "indices_lst = SM.generate_indices()\n",
    "\n",
    "component = 'S1'\n",
    "SM.sensitivity_plots(indices_lst, component)\n",
    "component = 'S2'\n",
    "SM.sensitivity_plots(indices_lst, component)"
   ]
  },
  {
   "cell_type": "markdown",
   "metadata": {},
   "source": [
    "### Result set 3\n",
    "Here we are testing the extreme high end of values for TMAX. For this bound range we are now observing:\n",
    "- SRAD is the largest contributor to the S1 sensitivity\n",
    "- TMAX is still a large contributor to the S1 sensitivity\n",
    "- The total S1 sensitivity has increased dramatically, causing a large decrease in S2 total sensitivity which lowers the impact of the XHLAI/MSALB interaction term. This is likely due to the scaling of EO by TMAX in this branch of the piecewise function"
   ]
  },
  {
   "cell_type": "markdown",
   "metadata": {},
   "source": [
    "## Take-home Message\n",
    "In this demo we have shown how an initial sensitivity analysis of a scientific model can inform which variables to search for when doing single-variable range analysis. AutoMATES enables us to search the source code of the model automatically to determine where in the code variables with high S1 sensitivites cause functional differences. Using the parameter estimation from the TR component of AutoMATES and static progam analysis from the PA component of AutoMATES we can then perform a second set of sensitivty analysis upon a broken up range of the variable in question. This allows AutoMATES to deliver deeper insights about the sensitivity of a scientific model to its inputs without requiring a modeler to:\n",
    "- manualy trek through the model code searching for the variable interactions of highest interest\n",
    "- find correct bound parameters for variables of interest in the literature\n",
    "- create new sensitivity analysis experiments as appropriate for the new ranges of a variable of interest"
   ]
  },
  {
   "cell_type": "code",
   "execution_count": null,
   "metadata": {},
   "outputs": [],
   "source": [
    "# Choosing the bound set\n",
    "bounds = {\n",
    "        'tmax':[-10.0, 5.0],\n",
    "        'tmin':[0.0, 23.9],\n",
    "        'srad': [2.45, 27.8],\n",
    "        'msalb': [0.18, 0.2],\n",
    "        'xhlai': [-0.00001, 0.00001]\n",
    "    }\n",
    "\n",
    "SM = SensitivityModel(model, bounds, sample_list, method)\n",
    "df_PETPT_S1, df_PETPT_ST = SM.generate_dataframe()\n",
    "indices_lst = SM.generate_indices()\n",
    "\n",
    "SM.sensitivity_plots(indices_lst, \"S1\")\n",
    "SM.sensitivity_plots(indices_lst, \"S2\")"
   ]
  },
  {
   "cell_type": "code",
   "execution_count": null,
   "metadata": {},
   "outputs": [],
   "source": []
  }
 ],
 "metadata": {
  "kernelspec": {
   "display_name": "Python 3",
   "language": "python",
   "name": "python3"
  },
  "language_info": {
   "codemirror_mode": {
    "name": "ipython",
    "version": 3
   },
   "file_extension": ".py",
   "mimetype": "text/x-python",
   "name": "python",
   "nbconvert_exporter": "python",
   "pygments_lexer": "ipython3",
   "version": "3.7.7"
  }
 },
 "nbformat": 4,
 "nbformat_minor": 4
}
