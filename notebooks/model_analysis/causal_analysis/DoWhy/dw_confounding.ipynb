{
 "cells": [
  {
   "cell_type": "code",
   "execution_count": null,
   "id": "c07e1a97",
   "metadata": {},
   "outputs": [],
   "source": [
    "import numpy as np\n",
    "import pandas as pd\n",
    "import igraph as ig\n",
    "import dowhy as dw\n",
    "import matplotlib.pyplot as plt\n",
    "import automates.model_analysis.identification_algorithms as ia"
   ]
  },
  {
   "cell_type": "markdown",
   "id": "3d390390",
   "metadata": {},
   "source": [
    "# DoWhy Confounding Example\n",
    "\n",
    "## Objectives\n",
    "There are two goals:\n",
    "1. Illustrate that estimating an unidentifiable effect leads to inaccurate estimation\n",
    "2. Illustrate that ignoring known confounding rather than correcting for it leads to incorrect decisions\n",
    "\n",
    "I will construct examples that highlight why, under certain conditions, ignoring information about identifiability gained from graph structure can lead to incorrect conclusions.\n",
    "\n",
    "## Example 1: The Bow-Arc Graph\n",
    "The bow-arc graph is the smallest unidentifiable graph (Shiptser and Pearl, page 1949), so let us examine this model first.\n",
    "\n",
    "Suppose a dice is rolled whose outcome $U$ is not observed. A second dice is rolled and the outcome of this roll, plus the first is observed.  The outcome $y_i = 6u_i + 0.75d_i + \\mathcal{N}(2, 1)$.\n",
    "\n",
    "The Structural Causal Model (SCM) has the following structural equations:\n",
    "\n",
    "\\begin{align*} \n",
    "U &= f_U(\\varepsilon_U) \\\\\n",
    "D &= f_D(U, \\varepsilon_H) \\\\\n",
    "Y &= f_Y(U, D, \\varepsilon_Y), \\text{ where } \\varepsilon_U \\perp \\varepsilon_D \\perp \\varepsilon_Y\n",
    "\\end{align*}\n",
    "\n",
    "The graph corresponding to the scenario:"
   ]
  },
  {
   "cell_type": "code",
   "execution_count": null,
   "id": "35de5d83",
   "metadata": {},
   "outputs": [],
   "source": [
    "# Specify iGraph\n",
    "g1 = ig.Graph(edges=[[0, 1], [2, 1], [2, 0]], directed=True)\n",
    "g1.vs[\"name\"] = [\"D\", \"Y\", \"U\"]; g1.vs[\"description\"] = [\"O\", \"O\", \"U\"]\n",
    "g1.es[\"description\"] = [\"O\", \"U\", \"U\"]\n",
    "\n",
    "# plot graph\n",
    "v_style1 = {\"vertex_label\": g1.vs[\"name\"], \"vertex_size\": 20, \"layout\": g1.layout(\"rt\", mode=\"all\", root=[2])}\n",
    "fig, ax = plt.subplots(); plt.axis('off')\n",
    "ig.plot(g1, target=ax, **v_style1)"
   ]
  },
  {
   "cell_type": "markdown",
   "id": "74a602ad",
   "metadata": {},
   "source": [
    "### Simulation\n",
    "I sample from the following error distributions:\n",
    "\\begin{align*}\n",
    "\\varepsilon_U &\\sim \\text{Uniform}(1, 6) \\\\\n",
    "\\varepsilon_D &\\sim \\text{Uniform}(1, 6) \\\\\n",
    "\\varepsilon_Y &\\sim \\mathcal{N}(2, 1) \\\\\n",
    "\\end{align*}\n",
    "\n",
    "Then construct the observations and outcome using the following structural equations for the graph and our known relationship:\n",
    "\\begin{align*}\n",
    "u_i &= \\varepsilon_{u_i} \\\\\n",
    "d_i &= u_i + \\varepsilon_{d_i} \\\\\n",
    "y_i &= 6*u_i + 0.75*d_i+\\varepsilon_{y_i} \\\\\n",
    "\\end{align*}\n",
    "\n",
    "This is repeated 100 times:"
   ]
  },
  {
   "cell_type": "code",
   "execution_count": null,
   "id": "b2953649",
   "metadata": {},
   "outputs": [],
   "source": [
    "# Sample n times from Error Distributions\n",
    "n = 100; np.random.seed(2021)\n",
    "epsilon_U = np.random.randint(1, 7, n); U = epsilon_U\n",
    "epsilon_D = np.random.randint(1, 7, n); D = epsilon_D+epsilon_U\n",
    "epsilon_Y = np.random.normal(2, 1, n); Y = 6*epsilon_U + 0.75*epsilon_D + epsilon_Y\n",
    "\n",
    "\n",
    "# Construct Observations and Outcomes\n",
    "sim_data = pd.DataFrame(np.transpose(np.array([D, Y])), columns = [\"D\", \"Y\"])\n",
    "sim_data[0:10]"
   ]
  },
  {
   "cell_type": "markdown",
   "id": "229a9232",
   "metadata": {},
   "source": [
    "### Identification, ID-Algorithm\n",
    "Suppose we implement *reference* ID-Algorithm."
   ]
  },
  {
   "cell_type": "code",
   "execution_count": null,
   "id": "4bdd2d58",
   "metadata": {},
   "outputs": [],
   "source": [
    "# Implement ID Algorithm on the Graph\n",
    "results = ia.identifiability([\"Y\"], [\"D\"], g1)"
   ]
  },
  {
   "cell_type": "markdown",
   "id": "fac69c52",
   "metadata": {},
   "source": [
    "We see that the effect $P(Y|do(d))$ is not identifiable by the ID-Algorithm.\n",
    "\n",
    "### Identification, DoWhy\n",
    "Now, using DoWhy, I input the graph and data (DoWhy requires that data be bundled with the graph) and then run DoWhy's identification step."
   ]
  },
  {
   "cell_type": "code",
   "execution_count": null,
   "id": "bbf54e7f",
   "metadata": {},
   "outputs": [],
   "source": [
    "# Specify DoWhy model\n",
    "dw_graph = 'digraph {U [observed=\"no\"]; D [observed=\"yes\"]; Y [observed=\"yes\"]; U -> Y; U -> D; D -> Y}'\n",
    "dw_model = dw.CausalModel(data=sim_data, treatment=[\"D\"], outcome=[\"Y\"], graph=dw_graph)\n",
    "\n",
    "# Implement DoWhy identification\n",
    "dw_id = dw_model.identify_effect(estimand_type=\"nonparametric-ate\", method_name=\"default\", proceed_when_unidentifiable=True)\n",
    "print(dw_id)"
   ]
  },
  {
   "cell_type": "markdown",
   "id": "142ae5c8",
   "metadata": {},
   "source": [
    "We see that DoWhy warns us about the assumptions it's making, but proceeds anyway. It returns a regression coefficient as the \"identified\" value.\n",
    "\n",
    "### Estimation, DoWhy\n",
    "If we ignore DoWhy's warning and proceed with estimation (using linear regression) anyway, we get the following"
   ]
  },
  {
   "cell_type": "code",
   "execution_count": null,
   "id": "906f1d5f",
   "metadata": {},
   "outputs": [],
   "source": [
    "# Implement DoWhy linear estimation method\n",
    "dw_estimate = dw_model.estimate_effect(dw_id, method_name=\"backdoor.linear_regression\",test_significance=True)\n",
    "print(dw_estimate)\n",
    "\n",
    "# return output of interest"
   ]
  },
  {
   "cell_type": "markdown",
   "id": "072097ce",
   "metadata": {},
   "source": [
    "From the equations we used to simulate the data, we know that the true ATE should be 1, which is quite far from what we estimate.\n",
    "\n",
    "Below is an example of what we could estimate given the values of U as well."
   ]
  },
  {
   "cell_type": "code",
   "execution_count": null,
   "id": "e6a6dca1",
   "metadata": {},
   "outputs": [],
   "source": [
    "sim_true = pd.DataFrame(np.transpose(np.array([U, D, Y])), columns = [\"U\", \"D\", \"Y\"])\n",
    "true_graph = 'digraph {U; D; Y; U -> Y; U -> D; D -> Y}'\n",
    "true_model = dw.CausalModel(data=sim_true, treatment=[\"D\"], outcome=[\"Y\"], graph=true_graph)\n",
    "true_id = true_model.identify_effect(estimand_type=\"nonparametric-ate\", method_name=\"default\", proceed_when_unidentifiable=True)\n",
    "true_estimate = true_model.estimate_effect(true_id, method_name=\"backdoor.linear_regression\",test_significance=True)\n",
    "print(true_estimate)"
   ]
  },
  {
   "cell_type": "markdown",
   "id": "2ab5e12c",
   "metadata": {},
   "source": []
  }
 ],
 "metadata": {
  "kernelspec": {
   "display_name": "Python 3",
   "language": "python",
   "name": "python3"
  },
  "language_info": {
   "codemirror_mode": {
    "name": "ipython",
    "version": 3
   },
   "file_extension": ".py",
   "mimetype": "text/x-python",
   "name": "python",
   "nbconvert_exporter": "python",
   "pygments_lexer": "ipython3",
   "version": "3.8.6"
  }
 },
 "nbformat": 4,
 "nbformat_minor": 5
}
