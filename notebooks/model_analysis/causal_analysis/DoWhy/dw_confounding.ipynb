{
 "cells": [
  {
   "cell_type": "code",
   "execution_count": null,
   "id": "ea93560f",
   "metadata": {},
   "outputs": [],
   "source": [
    "# imports: need pandas, numpy, iGraph, identification_algorithms, dowhy, plots?, simulation?"
   ]
  },
  {
   "cell_type": "markdown",
   "id": "417f05ab",
   "metadata": {},
   "source": [
    "# DoWhy Confounding Example\n",
    "\n",
    "## Objectives\n",
    "There are two goals:\n",
    "1. Illustrate that estimating an unidentifiable effect leads to incorrect decisions\n",
    "2. Illustrate that ignoring known confounding rather than correcting for it leads to incorrect decisions\n",
    "\n",
    "I will construct examples that highlight why, under certain conditions, ignoring information about identifiability gained from graph structure can lead to incorrect conclusions.\n",
    "\n",
    "## Example 1\n",
    "Consider the following scenario: *appropriate context to fit graph*\n",
    "\n",
    "The Structural Causal Model (SCM) has the following structural equations:\n",
    "*latex structural equations*\n",
    "\n",
    "The graph corresponding to the scenario:"
   ]
  },
  {
   "cell_type": "code",
   "execution_count": null,
   "id": "807e619a",
   "metadata": {},
   "outputs": [],
   "source": [
    "# specify iGraph\n",
    "# plot graph"
   ]
  },
  {
   "cell_type": "markdown",
   "id": "2898dc9f",
   "metadata": {},
   "source": [
    "### Simulation\n",
    "I sample from the following error distributions:\n",
    "*latex distributions of errors*\n",
    "\n",
    "Then construct the observations and outcome using the following structural equations for the graph:\n",
    "*latex structural equations to be used*\n",
    "\n",
    "This is repeated *n_samples* times:"
   ]
  },
  {
   "cell_type": "code",
   "execution_count": null,
   "id": "621af7db",
   "metadata": {},
   "outputs": [],
   "source": [
    "# sample n times from error distributions\n",
    "# construct observations and outcomes"
   ]
  },
  {
   "cell_type": "markdown",
   "id": "0c9771b6",
   "metadata": {},
   "source": [
    "### Identification, ID-Algorithm\n",
    "Suppose we implement *reference* ID-Algorithm."
   ]
  },
  {
   "cell_type": "code",
   "execution_count": null,
   "id": "87094cce",
   "metadata": {},
   "outputs": [],
   "source": [
    "# implement ID Algorithm on the graph"
   ]
  },
  {
   "cell_type": "markdown",
   "id": "712f4aad",
   "metadata": {},
   "source": [
    "We see that the effect *latex representation of effect* is not identifiable by the ID-Algorithm.\n",
    "\n",
    "### Identification, DoWhy\n",
    "Now, using DoWhy, I input the graph and data (DoWhy requires that data be bundled with the graph) and then run DoWhy's identification step."
   ]
  },
  {
   "cell_type": "code",
   "execution_count": null,
   "id": "0ed038ab",
   "metadata": {},
   "outputs": [],
   "source": [
    "# specify DoWhy model\n",
    "# implement DoWhy identification"
   ]
  },
  {
   "cell_type": "markdown",
   "id": "364a207d",
   "metadata": {},
   "source": [
    "We see that DoWhy warns us about the assumptions it's making, but proceeds anyway. It returns a regression coefficient as the \"identified\" value.\n",
    "\n",
    "### Estimation, DoWhy\n",
    "If we ignore DoWhy's warning and proceed with estimation (using linear regression) anyway, we get the following"
   ]
  },
  {
   "cell_type": "code",
   "execution_count": null,
   "id": "ccf1b97e",
   "metadata": {},
   "outputs": [],
   "source": [
    "# implement DoWhy linear estimation method\n",
    "# return output of interest"
   ]
  },
  {
   "cell_type": "markdown",
   "id": "8a2d1c0e",
   "metadata": {},
   "source": [
    "From the equations we used to simulate the data, we know that the true causal effect is:\n",
    "*latex causal effect*\n",
    "\n",
    "However, the estimation from DoWhy is *DoWhy results*. It is clear that this is not a very good estimate of the causal effect.\n",
    "\n",
    "## Example 2"
   ]
  }
 ],
 "metadata": {
  "kernelspec": {
   "display_name": "Python 3",
   "language": "python",
   "name": "python3"
  },
  "language_info": {
   "codemirror_mode": {
    "name": "ipython",
    "version": 3
   },
   "file_extension": ".py",
   "mimetype": "text/x-python",
   "name": "python",
   "nbconvert_exporter": "python",
   "pygments_lexer": "ipython3",
   "version": "3.8.6"
  }
 },
 "nbformat": 4,
 "nbformat_minor": 5
}
