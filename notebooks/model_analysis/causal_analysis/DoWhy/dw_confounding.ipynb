{
 "cells": [
  {
   "cell_type": "code",
   "execution_count": 5,
   "id": "b6acfc25",
   "metadata": {},
   "outputs": [],
   "source": [
    "# imports: need plots?, simulation?\n",
    "import numpy as np\n",
    "import pandas as pd\n",
    "import igraph as ig\n",
    "import dowhy as dw\n",
    "import matplotlib.pyplot as plt\n",
    "import automates.model_analysis.identification_algorithms as ia"
   ]
  },
  {
   "cell_type": "markdown",
   "id": "45dec10e",
   "metadata": {},
   "source": [
    "# DoWhy Confounding Example\n",
    "\n",
    "## Objectives\n",
    "There are two goals:\n",
    "1. Illustrate that estimating an unidentifiable effect leads to incorrect decisions\n",
    "2. Illustrate that ignoring known confounding rather than correcting for it leads to incorrect decisions\n",
    "\n",
    "I will construct examples that highlight why, under certain conditions, ignoring information about identifiability gained from graph structure can lead to incorrect conclusions.\n",
    "\n",
    "## Example 1: The Bow-Arc Graph\n",
    "The bow-arc graph is the smallest unidentifiable graph (Shiptser and Pearl, page 1949), so let us examine this model first.\n",
    "\n",
    "Suppose that we want to study the relationship between the force (F) when an object hits the ground when dropped from different heights (H). We select a number of objects and drop them and measure the force and record the height from which it is dropped. \n",
    "\n",
    "However, let us suppose that our objects do not all have the same mass and let us make the naive assumption that we cannot measure the mass. We then recognize that there is an unobserved confounder between height and force.\n",
    "\n",
    "The Structural Causal Model (SCM) has the following structural equations:\n",
    "\n",
    "\\begin{align*} \n",
    "U &= f_U(\\varepsilon_U) \\\\\n",
    "H &= f_H(\\varepsilon_H) \\\\\n",
    "F &= f_F(U, H, \\varepsilon_F), \\text{ where } \\varepsilon_U \\perp \\varepsilon_H \\perp \\varepsilon_F\n",
    "\\end{align*}\n",
    "\n",
    "The graph corresponding to the scenario:"
   ]
  },
  {
   "cell_type": "code",
   "execution_count": 30,
   "id": "d554a03b",
   "metadata": {},
   "outputs": [
    {
     "data": {
      "image/png": "[encoded data removed]",
      "text/plain": [
       "<Figure size 432x288 with 1 Axes>"
      ]
     },
     "metadata": {
      "needs_background": "light"
     },
     "output_type": "display_data"
    }
   ],
   "source": [
    "# Specify iGraph\n",
    "g1 = ig.Graph(edges=[[0, 1], [2, 1], [2, 0]], directed=True)\n",
    "g1.vs[\"name\"] = [\"H\", \"F\", \"U\"]; g1.vs[\"description\"] = [\"O\", \"O\", \"U\"]\n",
    "g1.es[\"description\"] = [\"O\", \"U\", \"U\"]\n",
    "\n",
    "# plot graph\n",
    "v_style1 = {\"vertex_label\": g1.vs[\"name\"], \"vertex_size\": 20, \"layout\": g1.layout(\"rt\", mode=\"all\", root=[2])}\n",
    "fig, ax = plt.subplots(); plt.axis('off')\n",
    "ig.plot(g1, target=ax, **v_style1)"
   ]
  },
  {
   "cell_type": "markdown",
   "id": "58ddab49",
   "metadata": {},
   "source": [
    "### Simulation\n",
    "I sample from the following error distributions:\n",
    "\\begin{matrix}\n",
    "\n",
    "\n",
    "\\end{\\matrix}\n",
    "*latex distributions of errors*\n",
    "\n",
    "Then construct the observations and outcome using the following structural equations for the graph:\n",
    "*latex structural equations to be used*\n",
    "\n",
    "This is repeated *n_samples* times:"
   ]
  },
  {
   "cell_type": "code",
   "execution_count": 31,
   "id": "2f2e7f5d",
   "metadata": {},
   "outputs": [],
   "source": [
    "# sample n times from error distributions\n",
    "# construct observations and outcomes"
   ]
  },
  {
   "cell_type": "markdown",
   "id": "70e74e55",
   "metadata": {},
   "source": [
    "### Identification, ID-Algorithm\n",
    "Suppose we implement *reference* ID-Algorithm."
   ]
  },
  {
   "cell_type": "code",
   "execution_count": 33,
   "id": "4d068f8b",
   "metadata": {},
   "outputs": [
    {
     "ename": "KeyError",
     "evalue": "'Attribute does not exist'",
     "output_type": "error",
     "traceback": [
      "\u001b[0;31m---------------------------------------------------------------------------\u001b[0m",
      "\u001b[0;31mKeyError\u001b[0m                                  Traceback (most recent call last)",
      "\u001b[0;32m<ipython-input-33-c03f1a5719c2>\u001b[0m in \u001b[0;36m<module>\u001b[0;34m\u001b[0m\n\u001b[1;32m      1\u001b[0m \u001b[0;31m# Implement ID Algorithm on the Graph\u001b[0m\u001b[0;34m\u001b[0m\u001b[0;34m\u001b[0m\u001b[0;34m\u001b[0m\u001b[0m\n\u001b[0;32m----> 2\u001b[0;31m \u001b[0mia\u001b[0m\u001b[0;34m.\u001b[0m\u001b[0midentifiability\u001b[0m\u001b[0;34m(\u001b[0m\u001b[0;34m[\u001b[0m\u001b[0;34m\"F\"\u001b[0m\u001b[0;34m]\u001b[0m\u001b[0;34m,\u001b[0m \u001b[0;34m[\u001b[0m\u001b[0;34m\"H\"\u001b[0m\u001b[0;34m]\u001b[0m\u001b[0;34m,\u001b[0m \u001b[0mg1\u001b[0m\u001b[0;34m)\u001b[0m\u001b[0;34m\u001b[0m\u001b[0;34m\u001b[0m\u001b[0m\n\u001b[0m",
      "\u001b[0;32m~/Documents/Repository/automates/automates/model_analysis/identification_algorithms.py\u001b[0m in \u001b[0;36midentifiability\u001b[0;34m(y, x, g, z, steps, stop_on_noid)\u001b[0m\n\u001b[1;32m     39\u001b[0m             \u001b[0;32mraise\u001b[0m \u001b[0mValueError\u001b[0m\u001b[0;34m(\u001b[0m\u001b[0;34m\"Sets 'x' and 'z' are not disjoint.\"\u001b[0m\u001b[0;34m)\u001b[0m\u001b[0;34m\u001b[0m\u001b[0;34m\u001b[0m\u001b[0m\n\u001b[1;32m     40\u001b[0m     \u001b[0;32mif\u001b[0m \u001b[0mz\u001b[0m \u001b[0;32mis\u001b[0m \u001b[0;32mNone\u001b[0m\u001b[0;34m:\u001b[0m\u001b[0;34m\u001b[0m\u001b[0;34m\u001b[0m\u001b[0m\n\u001b[0;32m---> 41\u001b[0;31m         \u001b[0mres\u001b[0m \u001b[0;34m=\u001b[0m \u001b[0mcompute_ID\u001b[0m\u001b[0;34m(\u001b[0m\u001b[0my\u001b[0m\u001b[0;34m,\u001b[0m \u001b[0mx\u001b[0m\u001b[0;34m,\u001b[0m \u001b[0mgm\u001b[0m\u001b[0;34m.\u001b[0m\u001b[0mProbability\u001b[0m\u001b[0;34m(\u001b[0m\u001b[0;34m)\u001b[0m\u001b[0;34m,\u001b[0m \u001b[0mg\u001b[0m\u001b[0;34m,\u001b[0m \u001b[0mg_obs\u001b[0m\u001b[0;34m,\u001b[0m \u001b[0mtopo\u001b[0m\u001b[0;34m,\u001b[0m \u001b[0mtopo\u001b[0m\u001b[0;34m,\u001b[0m \u001b[0mgm\u001b[0m\u001b[0;34m.\u001b[0m\u001b[0mTreeNode\u001b[0m\u001b[0;34m(\u001b[0m\u001b[0;34m)\u001b[0m\u001b[0;34m)\u001b[0m\u001b[0;34m\u001b[0m\u001b[0;34m\u001b[0m\u001b[0m\n\u001b[0m\u001b[1;32m     42\u001b[0m         \u001b[0malgo\u001b[0m \u001b[0;34m=\u001b[0m \u001b[0;34m\"id\"\u001b[0m\u001b[0;34m\u001b[0m\u001b[0;34m\u001b[0m\u001b[0m\n\u001b[1;32m     43\u001b[0m         \u001b[0mres_prob\u001b[0m \u001b[0;34m=\u001b[0m \u001b[0mres\u001b[0m\u001b[0;34m.\u001b[0m\u001b[0mp\u001b[0m\u001b[0;34m\u001b[0m\u001b[0;34m\u001b[0m\u001b[0m\n",
      "\u001b[0;32m~/Documents/Repository/automates/automates/model_analysis/identification_algorithms.py\u001b[0m in \u001b[0;36mcompute_ID\u001b[0;34m(y, x, p, g, g_obs, v, topo, tree)\u001b[0m\n\u001b[1;32m    107\u001b[0m         \u001b[0mg_an_obs\u001b[0m \u001b[0;34m=\u001b[0m \u001b[0mgm\u001b[0m\u001b[0;34m.\u001b[0m\u001b[0mobserved_graph\u001b[0m\u001b[0;34m(\u001b[0m\u001b[0mg_an\u001b[0m\u001b[0;34m)\u001b[0m\u001b[0;34m\u001b[0m\u001b[0;34m\u001b[0m\u001b[0m\n\u001b[1;32m    108\u001b[0m         \u001b[0;32mif\u001b[0m \u001b[0mp\u001b[0m\u001b[0;34m.\u001b[0m\u001b[0mproduct\u001b[0m \u001b[0;32mor\u001b[0m \u001b[0mp\u001b[0m\u001b[0;34m.\u001b[0m\u001b[0mfraction\u001b[0m\u001b[0;34m:\u001b[0m\u001b[0;34m\u001b[0m\u001b[0;34m\u001b[0m\u001b[0m\n\u001b[0;32m--> 109\u001b[0;31m             \u001b[0mp\u001b[0m\u001b[0;34m.\u001b[0m\u001b[0msumset\u001b[0m \u001b[0;34m=\u001b[0m \u001b[0mgm\u001b[0m\u001b[0;34m.\u001b[0m\u001b[0mts\u001b[0m\u001b[0;34m(\u001b[0m\u001b[0mlist\u001b[0m\u001b[0;34m(\u001b[0m\u001b[0;34m(\u001b[0m\u001b[0mset\u001b[0m\u001b[0;34m(\u001b[0m\u001b[0mv\u001b[0m\u001b[0;34m)\u001b[0m \u001b[0;34m-\u001b[0m \u001b[0mset\u001b[0m\u001b[0;34m(\u001b[0m\u001b[0man\u001b[0m\u001b[0;34m)\u001b[0m\u001b[0;34m)\u001b[0m \u001b[0;34m|\u001b[0m \u001b[0mset\u001b[0m\u001b[0;34m(\u001b[0m\u001b[0mp\u001b[0m\u001b[0;34m.\u001b[0m\u001b[0msumset\u001b[0m\u001b[0;34m)\u001b[0m\u001b[0;34m)\u001b[0m\u001b[0;34m,\u001b[0m \u001b[0mtopo\u001b[0m\u001b[0;34m)\u001b[0m\u001b[0;34m\u001b[0m\u001b[0;34m\u001b[0m\u001b[0m\n\u001b[0m\u001b[1;32m    110\u001b[0m         \u001b[0;32melse\u001b[0m\u001b[0;34m:\u001b[0m\u001b[0;34m\u001b[0m\u001b[0;34m\u001b[0m\u001b[0m\n\u001b[1;32m    111\u001b[0m             \u001b[0mp\u001b[0m\u001b[0;34m.\u001b[0m\u001b[0mvar\u001b[0m \u001b[0;34m=\u001b[0m \u001b[0man\u001b[0m\u001b[0;34m\u001b[0m\u001b[0;34m\u001b[0m\u001b[0m\n",
      "\u001b[0;32m~/Documents/Repository/automates/automates/model_analysis/identification_algorithms.py\u001b[0m in \u001b[0;36mcompute_ID\u001b[0;34m(y, x, p, g, g_obs, v, topo, tree)\u001b[0m\n\u001b[1;32m    131\u001b[0m         \u001b[0mtree\u001b[0m\u001b[0;34m.\u001b[0m\u001b[0mcall\u001b[0m\u001b[0;34m.\u001b[0m\u001b[0man_xbar\u001b[0m \u001b[0;34m=\u001b[0m \u001b[0man_xbar\u001b[0m\u001b[0;34m\u001b[0m\u001b[0;34m\u001b[0m\u001b[0m\n\u001b[1;32m    132\u001b[0m         \u001b[0;32mreturn\u001b[0m \u001b[0mgm\u001b[0m\u001b[0;34m.\u001b[0m\u001b[0mResultsInternal\u001b[0m\u001b[0;34m(\u001b[0m\u001b[0mp\u001b[0m\u001b[0;34m=\u001b[0m\u001b[0mnxt\u001b[0m\u001b[0;34m.\u001b[0m\u001b[0mp\u001b[0m\u001b[0;34m,\u001b[0m \u001b[0mtree\u001b[0m\u001b[0;34m=\u001b[0m\u001b[0mtree\u001b[0m\u001b[0;34m)\u001b[0m\u001b[0;34m\u001b[0m\u001b[0;34m\u001b[0m\u001b[0m\n\u001b[0;32m--> 133\u001b[0;31m \u001b[0;34m\u001b[0m\u001b[0m\n\u001b[0m\u001b[1;32m    134\u001b[0m     \u001b[0;31m# Line 4\u001b[0m\u001b[0;34m\u001b[0m\u001b[0;34m\u001b[0m\u001b[0;34m\u001b[0m\u001b[0m\n\u001b[1;32m    135\u001b[0m     \u001b[0mg_remove_x\u001b[0m \u001b[0;34m=\u001b[0m \u001b[0mg\u001b[0m\u001b[0;34m.\u001b[0m\u001b[0msubgraph\u001b[0m\u001b[0;34m(\u001b[0m\u001b[0mlist\u001b[0m\u001b[0;34m(\u001b[0m\u001b[0mset\u001b[0m\u001b[0;34m(\u001b[0m\u001b[0mv\u001b[0m\u001b[0;34m)\u001b[0m \u001b[0;34m-\u001b[0m \u001b[0mset\u001b[0m\u001b[0;34m(\u001b[0m\u001b[0mx\u001b[0m\u001b[0;34m)\u001b[0m\u001b[0;34m)\u001b[0m\u001b[0;34m)\u001b[0m\u001b[0;34m\u001b[0m\u001b[0;34m\u001b[0m\u001b[0m\n",
      "\u001b[0;32m~/Documents/Repository/automates/automates/model_analysis/graph_manipulation.py\u001b[0m in \u001b[0;36mc_components\u001b[0;34m(g, topo)\u001b[0m\n\u001b[1;32m    310\u001b[0m \u001b[0;34m\u001b[0m\u001b[0m\n\u001b[1;32m    311\u001b[0m                 \u001b[0;31m# Removes nodes fixed by intervention from c_components\u001b[0m\u001b[0;34m\u001b[0m\u001b[0;34m\u001b[0m\u001b[0;34m\u001b[0m\u001b[0m\n\u001b[0;32m--> 312\u001b[0;31m                 \u001b[0;32mif\u001b[0m \u001b[0;34m\"int_vars\"\u001b[0m \u001b[0;32min\u001b[0m \u001b[0mg\u001b[0m\u001b[0;34m.\u001b[0m\u001b[0mvertex_attributes\u001b[0m\u001b[0;34m(\u001b[0m\u001b[0;34m)\u001b[0m\u001b[0;34m:\u001b[0m\u001b[0;34m\u001b[0m\u001b[0;34m\u001b[0m\u001b[0m\n\u001b[0m\u001b[1;32m    313\u001b[0m                     \u001b[0;32mif\u001b[0m \u001b[0mnode_info\u001b[0m\u001b[0;34m[\u001b[0m\u001b[0;34m\"int_vars\"\u001b[0m\u001b[0;34m]\u001b[0m \u001b[0;32mis\u001b[0m \u001b[0;32mnot\u001b[0m \u001b[0;32mNone\u001b[0m\u001b[0;34m:\u001b[0m\u001b[0;34m\u001b[0m\u001b[0;34m\u001b[0m\u001b[0m\n\u001b[1;32m    314\u001b[0m                         \u001b[0;32mif\u001b[0m \u001b[0mnode_info\u001b[0m\u001b[0;34m[\u001b[0m\u001b[0;34m\"orig_name\"\u001b[0m\u001b[0;34m]\u001b[0m \u001b[0;32min\u001b[0m \u001b[0mnode_info\u001b[0m\u001b[0;34m[\u001b[0m\u001b[0;34m\"int_vars\"\u001b[0m\u001b[0;34m]\u001b[0m\u001b[0;34m:\u001b[0m\u001b[0;34m\u001b[0m\u001b[0;34m\u001b[0m\u001b[0m\n",
      "\u001b[0;31mKeyError\u001b[0m: 'Attribute does not exist'"
     ]
    }
   ],
   "source": [
    "# Implement ID Algorithm on the Graph\n",
    "ia.identifiability([\"F\"], [\"H\"], g1)"
   ]
  },
  {
   "cell_type": "markdown",
   "id": "58ad6d17",
   "metadata": {},
   "source": [
    "We see that the effect *latex representation of effect* is not identifiable by the ID-Algorithm.\n",
    "\n",
    "### Identification, DoWhy\n",
    "Now, using DoWhy, I input the graph and data (DoWhy requires that data be bundled with the graph) and then run DoWhy's identification step."
   ]
  },
  {
   "cell_type": "code",
   "execution_count": null,
   "id": "8f531839",
   "metadata": {},
   "outputs": [],
   "source": [
    "# specify DoWhy model\n",
    "# implement DoWhy identification"
   ]
  },
  {
   "cell_type": "markdown",
   "id": "0c6a0be1",
   "metadata": {},
   "source": [
    "We see that DoWhy warns us about the assumptions it's making, but proceeds anyway. It returns a regression coefficient as the \"identified\" value.\n",
    "\n",
    "### Estimation, DoWhy\n",
    "If we ignore DoWhy's warning and proceed with estimation (using linear regression) anyway, we get the following"
   ]
  },
  {
   "cell_type": "code",
   "execution_count": null,
   "id": "1b98d2b2",
   "metadata": {},
   "outputs": [],
   "source": [
    "# implement DoWhy linear estimation method\n",
    "# return output of interest"
   ]
  },
  {
   "cell_type": "markdown",
   "id": "15f77ee1",
   "metadata": {},
   "source": [
    "From the equations we used to simulate the data, we know that the true causal effect is:\n",
    "*latex causal effect*\n",
    "\n",
    "However, the estimation from DoWhy is *DoWhy results*. It is clear that this is not a very good estimate of the causal effect.\n",
    "\n",
    "## Example 2"
   ]
  }
 ],
 "metadata": {
  "kernelspec": {
   "display_name": "Python 3",
   "language": "python",
   "name": "python3"
  },
  "language_info": {
   "codemirror_mode": {
    "name": "ipython",
    "version": 3
   },
   "file_extension": ".py",
   "mimetype": "text/x-python",
   "name": "python",
   "nbconvert_exporter": "python",
   "pygments_lexer": "ipython3",
   "version": "3.8.6"
  }
 },
 "nbformat": 4,
 "nbformat_minor": 5
}
