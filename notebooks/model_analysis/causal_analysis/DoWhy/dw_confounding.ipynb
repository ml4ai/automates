{
 "cells": [
  {
   "cell_type": "code",
   "execution_count": 2,
   "id": "3a7cd1bd",
   "metadata": {},
   "outputs": [],
   "source": [
    "import numpy as np\n",
    "import pandas as pd\n",
    "import igraph as ig\n",
    "import dowhy as dw\n",
    "import matplotlib.pyplot as plt\n",
    "import automates.model_analysis.identification_algorithms as ia"
   ]
  },
  {
   "cell_type": "markdown",
   "id": "8c5ea44b",
   "metadata": {},
   "source": [
    "# DoWhy Confounding Example\n",
    "\n",
    "## Objectives\n",
    "There are two goals:\n",
    "1. Illustrate that estimating an unidentifiable effect leads to inaccurate estimation\n",
    "2. Illustrate that ignoring known confounding rather than correcting for it leads to incorrect decisions\n",
    "\n",
    "I will construct examples that highlight why, under certain conditions, ignoring information about identifiability gained from graph structure can lead to incorrect conclusions.\n",
    "\n",
    "## Example 1: The Bow-Arc Graph\n",
    "The bow-arc graph is the smallest unidentifiable graph (Shiptser and Pearl, page 1949), so let us examine this model first.\n",
    "\n",
    "Suppose a dice is rolled whose outcome $U$ is not observed. A second dice is rolled and the outcome of this roll, plus the first is observed.  The outcome $y_i = 6u_i + 0.75d_i + \\mathcal{N}(2, 1)$.\n",
    "\n",
    "The Structural Causal Model (SCM) has the following structural equations:\n",
    "\n",
    "\\begin{align*} \n",
    "U &= f_U(\\varepsilon_U) \\\\\n",
    "D &= f_D(U, \\varepsilon_D) \\\\\n",
    "Y &= f_Y(U, D, \\varepsilon_Y), \\text{ where } \\varepsilon_U \\perp \\varepsilon_D \\perp \\varepsilon_Y\n",
    "\\end{align*}\n",
    "\n",
    "The graph corresponding to the scenario:"
   ]
  },
  {
   "cell_type": "code",
   "execution_count": 3,
   "id": "34f0e87e",
   "metadata": {},
   "outputs": [
    {
     "data": {
      "image/png": "[encoded data removed]",
      "text/plain": [
       "<Figure size 432x288 with 1 Axes>"
      ]
     },
     "metadata": {
      "needs_background": "light"
     },
     "output_type": "display_data"
    }
   ],
   "source": [
    "# Specify iGraph\n",
    "g1 = ig.Graph(edges=[[0, 1], [2, 1], [2, 0]], directed=True)\n",
    "g1.vs[\"name\"] = [\"D\", \"Y\", \"U\"]; g1.vs[\"description\"] = [\"O\", \"O\", \"U\"]\n",
    "g1.es[\"description\"] = [\"O\", \"U\", \"U\"]\n",
    "\n",
    "# plot graph\n",
    "v_style1 = {\"vertex_label\": g1.vs[\"name\"], \"vertex_size\": 20, \"layout\": g1.layout(\"rt\", mode=\"all\", root=[2])}\n",
    "fig, ax = plt.subplots(); plt.axis('off')\n",
    "ig.plot(g1, target=ax, **v_style1)"
   ]
  },
  {
   "cell_type": "markdown",
   "id": "f5df961e",
   "metadata": {},
   "source": [
    "### Simulation\n",
    "I sample from the following error distributions:\n",
    "\\begin{align*}\n",
    "\\varepsilon_U &\\sim \\text{Uniform}(1, 6) \\\\\n",
    "\\varepsilon_D &\\sim \\text{Uniform}(1, 6) \\\\\n",
    "\\varepsilon_Y &\\sim \\mathcal{N}(2, 1) \\\\\n",
    "\\end{align*}\n",
    "\n",
    "Then construct the observations and outcome using the following structural equations for the graph and our known relationship:\n",
    "\\begin{align*}\n",
    "u_i &= \\varepsilon_{u_i} \\\\\n",
    "d_i &= u_i + \\varepsilon_{d_i} \\\\\n",
    "y_i &= 6*u_i + 1*d_i+\\varepsilon_{y_i} \\\\\n",
    "\\end{align*}\n",
    "\n",
    "This is repeated 100 times:"
   ]
  },
  {
   "cell_type": "code",
   "execution_count": 4,
   "id": "0f1a9821",
   "metadata": {},
   "outputs": [
    {
     "data": {
      "text/html": [
       "<div>\n",
       "<style scoped>\n",
       "    .dataframe tbody tr th:only-of-type {\n",
       "        vertical-align: middle;\n",
       "    }\n",
       "\n",
       "    .dataframe tbody tr th {\n",
       "        vertical-align: top;\n",
       "    }\n",
       "\n",
       "    .dataframe thead th {\n",
       "        text-align: right;\n",
       "    }\n",
       "</style>\n",
       "<table border=\"1\" class=\"dataframe\">\n",
       "  <thead>\n",
       "    <tr style=\"text-align: right;\">\n",
       "      <th></th>\n",
       "      <th>D</th>\n",
       "      <th>Y</th>\n",
       "    </tr>\n",
       "  </thead>\n",
       "  <tbody>\n",
       "    <tr>\n",
       "      <th>0</th>\n",
       "      <td>6.0</td>\n",
       "      <td>34.524322</td>\n",
       "    </tr>\n",
       "    <tr>\n",
       "      <th>1</th>\n",
       "      <td>11.0</td>\n",
       "      <td>40.772993</td>\n",
       "    </tr>\n",
       "    <tr>\n",
       "      <th>2</th>\n",
       "      <td>8.0</td>\n",
       "      <td>20.517844</td>\n",
       "    </tr>\n",
       "    <tr>\n",
       "      <th>3</th>\n",
       "      <td>3.0</td>\n",
       "      <td>9.586113</td>\n",
       "    </tr>\n",
       "    <tr>\n",
       "      <th>4</th>\n",
       "      <td>10.0</td>\n",
       "      <td>40.323303</td>\n",
       "    </tr>\n",
       "    <tr>\n",
       "      <th>5</th>\n",
       "      <td>10.0</td>\n",
       "      <td>36.031992</td>\n",
       "    </tr>\n",
       "    <tr>\n",
       "      <th>6</th>\n",
       "      <td>5.0</td>\n",
       "      <td>26.917193</td>\n",
       "    </tr>\n",
       "    <tr>\n",
       "      <th>7</th>\n",
       "      <td>10.0</td>\n",
       "      <td>41.401670</td>\n",
       "    </tr>\n",
       "    <tr>\n",
       "      <th>8</th>\n",
       "      <td>8.0</td>\n",
       "      <td>39.638478</td>\n",
       "    </tr>\n",
       "    <tr>\n",
       "      <th>9</th>\n",
       "      <td>10.0</td>\n",
       "      <td>40.638358</td>\n",
       "    </tr>\n",
       "  </tbody>\n",
       "</table>\n",
       "</div>"
      ],
      "text/plain": [
       "      D          Y\n",
       "0   6.0  34.524322\n",
       "1  11.0  40.772993\n",
       "2   8.0  20.517844\n",
       "3   3.0   9.586113\n",
       "4  10.0  40.323303\n",
       "5  10.0  36.031992\n",
       "6   5.0  26.917193\n",
       "7  10.0  41.401670\n",
       "8   8.0  39.638478\n",
       "9  10.0  40.638358"
      ]
     },
     "execution_count": 4,
     "metadata": {},
     "output_type": "execute_result"
    }
   ],
   "source": [
    "# Sample n times from Error Distributions\n",
    "n = 100; np.random.seed(2021)\n",
    "epsilon_U = np.random.randint(1, 7, n); U = epsilon_U\n",
    "epsilon_D = np.random.randint(1, 7, n); D = epsilon_D+epsilon_U\n",
    "epsilon_Y = np.random.normal(2, 1, n); Y = 6*epsilon_U + 0.75*epsilon_D + epsilon_Y\n",
    "\n",
    "\n",
    "# Construct Observations and Outcomes\n",
    "sim_data = pd.DataFrame(np.transpose(np.array([D, Y])), columns = [\"D\", \"Y\"])\n",
    "sim_data[0:10]"
   ]
  },
  {
   "cell_type": "markdown",
   "id": "a724d89e",
   "metadata": {},
   "source": [
    "### Identification, ID-Algorithm\n",
    "Suppose we implement *reference* ID-Algorithm."
   ]
  },
  {
   "cell_type": "code",
   "execution_count": 5,
   "id": "8aebe95b",
   "metadata": {},
   "outputs": [
    {
     "ename": "IDANotIdentifiable",
     "evalue": "Not Identifiable",
     "output_type": "error",
     "traceback": [
      "\u001b[0;31m---------------------------------------------------------------------------\u001b[0m",
      "\u001b[0;31mIDANotIdentifiable\u001b[0m                        Traceback (most recent call last)",
      "\u001b[0;32m<ipython-input-5-7a8267705010>\u001b[0m in \u001b[0;36m<module>\u001b[0;34m\u001b[0m\n\u001b[1;32m      1\u001b[0m \u001b[0;31m# Implement ID Algorithm on the Graph\u001b[0m\u001b[0;34m\u001b[0m\u001b[0;34m\u001b[0m\u001b[0;34m\u001b[0m\u001b[0m\n\u001b[0;32m----> 2\u001b[0;31m \u001b[0mresults\u001b[0m \u001b[0;34m=\u001b[0m \u001b[0mia\u001b[0m\u001b[0;34m.\u001b[0m\u001b[0midentifiability\u001b[0m\u001b[0;34m(\u001b[0m\u001b[0;34m[\u001b[0m\u001b[0;34m\"Y\"\u001b[0m\u001b[0;34m]\u001b[0m\u001b[0;34m,\u001b[0m \u001b[0;34m[\u001b[0m\u001b[0;34m\"D\"\u001b[0m\u001b[0;34m]\u001b[0m\u001b[0;34m,\u001b[0m \u001b[0mg1\u001b[0m\u001b[0;34m)\u001b[0m\u001b[0;34m\u001b[0m\u001b[0;34m\u001b[0m\u001b[0m\n\u001b[0m",
      "\u001b[0;32m~/Documents/Repository/automates/automates/model_analysis/identification_algorithms.py\u001b[0m in \u001b[0;36midentifiability\u001b[0;34m(y, x, g, z, steps, stop_on_noid)\u001b[0m\n\u001b[1;32m     61\u001b[0m     \u001b[0;32melse\u001b[0m\u001b[0;34m:\u001b[0m\u001b[0;34m\u001b[0m\u001b[0;34m\u001b[0m\u001b[0m\n\u001b[1;32m     62\u001b[0m         \u001b[0;32mif\u001b[0m \u001b[0mstop_on_noid\u001b[0m\u001b[0;34m:\u001b[0m\u001b[0;34m\u001b[0m\u001b[0;34m\u001b[0m\u001b[0m\n\u001b[0;32m---> 63\u001b[0;31m             \u001b[0;32mraise\u001b[0m \u001b[0mgm\u001b[0m\u001b[0;34m.\u001b[0m\u001b[0mIDANotIdentifiable\u001b[0m\u001b[0;34m(\u001b[0m\u001b[0;34m\"Not Identifiable\"\u001b[0m\u001b[0;34m)\u001b[0m\u001b[0;34m\u001b[0m\u001b[0;34m\u001b[0m\u001b[0m\n\u001b[0m\u001b[1;32m     64\u001b[0m         \u001b[0moutput\u001b[0m \u001b[0;34m=\u001b[0m \u001b[0mgm\u001b[0m\u001b[0;34m.\u001b[0m\u001b[0mResults\u001b[0m\u001b[0;34m(\u001b[0m\u001b[0mquery\u001b[0m\u001b[0;34m=\u001b[0m\u001b[0;34m{\u001b[0m\u001b[0;34m\"y\"\u001b[0m\u001b[0;34m:\u001b[0m \u001b[0my\u001b[0m\u001b[0;34m,\u001b[0m \u001b[0;34m\"x\"\u001b[0m\u001b[0;34m:\u001b[0m \u001b[0mx\u001b[0m\u001b[0;34m,\u001b[0m \u001b[0;34m\"z\"\u001b[0m\u001b[0;34m:\u001b[0m \u001b[0mz\u001b[0m\u001b[0;34m}\u001b[0m\u001b[0;34m,\u001b[0m \u001b[0malgorithm\u001b[0m\u001b[0;34m=\u001b[0m\u001b[0malgo\u001b[0m\u001b[0;34m,\u001b[0m \u001b[0mp\u001b[0m\u001b[0;34m=\u001b[0m\u001b[0;34m\"\"\u001b[0m\u001b[0;34m,\u001b[0m \u001b[0mtree\u001b[0m\u001b[0;34m=\u001b[0m\u001b[0mres_tree\u001b[0m\u001b[0;34m)\u001b[0m\u001b[0;34m\u001b[0m\u001b[0;34m\u001b[0m\u001b[0m\n\u001b[1;32m     65\u001b[0m         \u001b[0;32mif\u001b[0m \u001b[0msteps\u001b[0m\u001b[0;34m:\u001b[0m\u001b[0;34m\u001b[0m\u001b[0;34m\u001b[0m\u001b[0m\n",
      "\u001b[0;31mIDANotIdentifiable\u001b[0m: Not Identifiable"
     ]
    }
   ],
   "source": [
    "# Implement ID Algorithm on the Graph\n",
    "results = ia.identifiability([\"Y\"], [\"D\"], g1)"
   ]
  },
  {
   "cell_type": "markdown",
   "id": "104c01d6",
   "metadata": {},
   "source": [
    "We see that the effect $P(Y|do(d))$ is not identifiable by the ID-Algorithm.\n",
    "\n",
    "### Identification, DoWhy\n",
    "Now, using DoWhy, I input the graph and data (DoWhy requires that data be bundled with the graph) and then run DoWhy's identification step."
   ]
  },
  {
   "cell_type": "code",
   "execution_count": 7,
   "id": "fa4797e3",
   "metadata": {},
   "outputs": [
    {
     "name": "stdout",
     "output_type": "stream",
     "text": [
      "Estimand type: nonparametric-ate\n",
      "\n",
      "### Estimand : 1\n",
      "Estimand name: backdoor\n",
      "Estimand expression:\n",
      " d                  \n",
      "────(Expectation(Y))\n",
      "d[D]                \n",
      "Estimand assumption 1, Unconfoundedness: If U→{D} and U→Y then P(Y|D,,U) = P(Y|D,)\n",
      "\n",
      "### Estimand : 2\n",
      "Estimand name: iv\n",
      "No such variable found!\n",
      "\n",
      "### Estimand : 3\n",
      "Estimand name: frontdoor\n",
      "No such variable found!\n",
      "\n"
     ]
    }
   ],
   "source": [
    "# Specify DoWhy model\n",
    "dw_graph = 'digraph {U [observed=\"no\"]; D [observed=\"yes\"]; Y [observed=\"yes\"]; U -> Y; U -> D; D -> Y}'\n",
    "dw_model = dw.CausalModel(data=sim_data, treatment=[\"D\"], outcome=[\"Y\"], graph=dw_graph)\n",
    "\n",
    "# Implement DoWhy identification\n",
    "dw_id = dw_model.identify_effect(estimand_type=\"nonparametric-ate\", method_name=\"default\", proceed_when_unidentifiable=True)\n",
    "print(dw_id)"
   ]
  },
  {
   "cell_type": "markdown",
   "id": "7a5bf164",
   "metadata": {},
   "source": [
    "We see that DoWhy warns us about the assumptions it's making, but proceeds anyway. It returns a regression coefficient as the \"identified\" value.\n",
    "\n",
    "### Estimation, DoWhy\n",
    "If we ignore DoWhy's warning and proceed with estimation (using linear regression) anyway, we get the following"
   ]
  },
  {
   "cell_type": "code",
   "execution_count": 8,
   "id": "9b971dd3",
   "metadata": {},
   "outputs": [
    {
     "name": "stdout",
     "output_type": "stream",
     "text": [
      "*** Causal Estimate ***\n",
      "\n",
      "## Identified estimand\n",
      "Estimand type: nonparametric-ate\n",
      "\n",
      "### Estimand : 1\n",
      "Estimand name: backdoor\n",
      "Estimand expression:\n",
      " d                  \n",
      "────(Expectation(Y))\n",
      "d[D]                \n",
      "Estimand assumption 1, Unconfoundedness: If U→{D} and U→Y then P(Y|D,,U) = P(Y|D,)\n",
      "\n",
      "## Realized estimand\n",
      "b: Y~D\n",
      "Target units: ate\n",
      "\n",
      "## Estimate\n",
      "Mean value: 3.4096408896276573\n",
      "p-value: [1.39798417e-21]\n",
      "\n"
     ]
    }
   ],
   "source": [
    "# Implement DoWhy linear estimation method\n",
    "dw_estimate = dw_model.estimate_effect(dw_id, method_name=\"backdoor.linear_regression\",test_significance=True)\n",
    "print(dw_estimate)\n",
    "\n",
    "# return output of interest"
   ]
  },
  {
   "cell_type": "markdown",
   "id": "014f716c",
   "metadata": {},
   "source": [
    "From the equations we used to simulate the data, we know that the true ATE should be 1, which is quite far from what we estimate.\n",
    "\n",
    "Below is an example of what we could estimate given the values of U as well."
   ]
  },
  {
   "cell_type": "code",
   "execution_count": 9,
   "id": "6a14b059",
   "metadata": {},
   "outputs": [
    {
     "name": "stdout",
     "output_type": "stream",
     "text": [
      "*** Causal Estimate ***\n",
      "\n",
      "## Identified estimand\n",
      "Estimand type: nonparametric-ate\n",
      "\n",
      "### Estimand : 1\n",
      "Estimand name: backdoor\n",
      "Estimand expression:\n",
      " d                    \n",
      "────(Expectation(Y|U))\n",
      "d[D]                  \n",
      "Estimand assumption 1, Unconfoundedness: If U→{D} and U→Y then P(Y|D,U,U) = P(Y|D,U)\n",
      "\n",
      "## Realized estimand\n",
      "b: Y~D+U\n",
      "Target units: ate\n",
      "\n",
      "## Estimate\n",
      "Mean value: 0.806781120600693\n",
      "p-value: [1.84613141e-22]\n",
      "\n"
     ]
    }
   ],
   "source": [
    "sim_true = pd.DataFrame(np.transpose(np.array([U, D, Y])), columns = [\"U\", \"D\", \"Y\"])\n",
    "true_graph = 'digraph {U; D; Y; U -> Y; U -> D; D -> Y}'\n",
    "true_model = dw.CausalModel(data=sim_true, treatment=[\"D\"], outcome=[\"Y\"], graph=true_graph)\n",
    "true_id = true_model.identify_effect(estimand_type=\"nonparametric-ate\", method_name=\"default\", proceed_when_unidentifiable=True)\n",
    "true_estimate = true_model.estimate_effect(true_id, method_name=\"backdoor.linear_regression\",test_significance=True)\n",
    "print(true_estimate)"
   ]
  },
  {
   "cell_type": "markdown",
   "id": "ae59fbb3",
   "metadata": {},
   "source": []
  }
 ],
 "metadata": {
  "kernelspec": {
   "display_name": "Python 3",
   "language": "python",
   "name": "python3"
  },
  "language_info": {
   "codemirror_mode": {
    "name": "ipython",
    "version": 3
   },
   "file_extension": ".py",
   "mimetype": "text/x-python",
   "name": "python",
   "nbconvert_exporter": "python",
   "pygments_lexer": "ipython3",
   "version": "3.8.6"
  }
 },
 "nbformat": 4,
 "nbformat_minor": 5
}
