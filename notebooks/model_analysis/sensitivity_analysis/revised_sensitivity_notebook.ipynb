{
 "cells": [
  {
   "cell_type": "code",
   "execution_count": null,
   "id": "e6dc24cf",
   "metadata": {},
   "outputs": [],
   "source": [
    "import notebooks.model_analysis.sensitivity_analysis.sa_notebook_support as sa_nb\n",
    "from automates.model_analysis.sensitivity import SADependentVariable"
   ]
  },
  {
   "cell_type": "markdown",
   "id": "55db602f",
   "metadata": {},
   "source": [
    "In the first section, variable bounds, fixed inputs, and outputs are defined."
   ]
  },
  {
   "cell_type": "code",
   "execution_count": null,
   "id": "4ddaae4e",
   "metadata": {},
   "outputs": [],
   "source": [
    "def gather_stemp_soilt_inputs():\n",
    "    bounds = {\n",
    "        \"stemp_soilt::stemp_soilt.soilt::srad::-1\": [0.5, 30],\n",
    "        \"stemp_soilt::stemp_soilt.soilt::tmax::-1\": [0, 40],\n",
    "        # \"stemp_soilt::stemp_soilt.soilt::nlayr::-1\": [1, 20],\n",
    "    }\n",
    "\n",
    "    inputs = {\n",
    "        # \"stemp_soilt::stemp_soilt.soilt::nlayr::-1\": SADependentVariable(\n",
    "        #     \"stemp_soilt::stemp_soilt.soilt::nlayr::-1\",\n",
    "        #     [\"stemp_soilt::stemp_soilt.soilt::nlayr::-1\"],\n",
    "        #     lambda nlayr: int(nlayr),\n",
    "        # ),\n",
    "        \"stemp_soilt::stemp_soilt.soilt::nlayr::-1\": 10,\n",
    "        \"stemp_soilt::stemp_soilt.soilt::atot::-1\": 0,\n",
    "        \"stemp_soilt::stemp_soilt.soilt::tma::-1\": [0, 0, 0, 0, 0],\n",
    "        \"stemp_soilt::stemp_soilt.soilt::ww::-1\": 1,\n",
    "        \"stemp_soilt::stemp_soilt.soilt::albedo::-1\": 0,\n",
    "        \"stemp_soilt::stemp_soilt.soilt::b::-1\": 0,\n",
    "        \"stemp_soilt::stemp_soilt.soilt::cumdpt::-1\": 1,\n",
    "        \"stemp_soilt::stemp_soilt.soilt::doy::-1\": 0,\n",
    "        \"stemp_soilt::stemp_soilt.soilt::dp::-1\": 1,\n",
    "        \"stemp_soilt::stemp_soilt.soilt::hday::-1\": 0,\n",
    "        \"stemp_soilt::stemp_soilt.soilt::pesw::-1\": 1,\n",
    "        \"stemp_soilt::stemp_soilt.soilt::tamp::-1\": 0,\n",
    "        \"stemp_soilt::stemp_soilt.soilt::tav::-1\": SADependentVariable(\n",
    "            \"stemp_soilt::stemp_soilt.soilt::tav::-1\",\n",
    "            [\"stemp_soilt::stemp_soilt.soilt::tmax::-1\"],\n",
    "            lambda tmax: tmax - 5,\n",
    "        ),\n",
    "        \"stemp_soilt::stemp_soilt.soilt::tavg::-1\": SADependentVariable(\n",
    "            \"stemp_soilt::stemp_soilt.soilt::tavg::-1\",\n",
    "            [\n",
    "                \"stemp_soilt::stemp_soilt.soilt::tmax::-1\",\n",
    "                \"stemp_soilt::stemp_soilt.soilt::tav::-1\",\n",
    "            ],\n",
    "            lambda tmax, tav: (tmax + tav) / 2,\n",
    "        ),\n",
    "        \"stemp_soilt::stemp_soilt.soilt::dsmid::-1\": SADependentVariable(\n",
    "            \"stemp_soilt::stemp_soilt.soilt::dsmid::-1\",\n",
    "            [\"stemp_soilt::stemp_soilt.soilt::nlayr::-1\"],\n",
    "            lambda nlayr: [0] * nlayr,\n",
    "        ),\n",
    "        \"stemp_soilt::stemp_soilt.soilt::st::-1\": SADependentVariable(\n",
    "            \"stemp_soilt::stemp_soilt.soilt::st::-1\",\n",
    "            [\"stemp_soilt::stemp_soilt.soilt::nlayr::-1\"],\n",
    "            lambda nlayr: [0] * nlayr,\n",
    "        ),\n",
    "    }\n",
    "\n",
    "    output_base_names = [\"atot\", \"tma\", \"srftemp\", \"st\"]\n",
    "    # output_base_names = [\"tma\"]\n",
    "\n",
    "    return (bounds, inputs, output_base_names)\n",
    "\n",
    "\n",
    "def gather_stemp_epic_soilt_inputs():\n",
    "    bounds = {\n",
    "        # \"stemp_epic_soilt::stemp_epic_soilt.soilt_epic::srad::-1\": [0.5, 30],\n",
    "        \"stemp_epic_soilt::stemp_epic_soilt.soilt_epic::tmax::-1\": [0, 40],\n",
    "        # \"stemp_epic_soilt::stemp_epic_soilt.soilt_epic::nlayr::-1\": [1, 20],\n",
    "    }\n",
    "\n",
    "    inputs = {\n",
    "        # \"stemp_epic_soilt::stemp_epic_soilt.soilt_epic::nlayr::-1\": SADependentVariable(\n",
    "        #     \"stemp_epic_soilt::stemp_epic_soilt.soilt_epic::nlayr::-1\",\n",
    "        #     [\"stemp_epic_soilt::stemp_epic_soilt.soilt_epic::nlayr::-1\"],\n",
    "        #     lambda nlayr: int(nlayr),\n",
    "        # ),\n",
    "        \"stemp_epic_soilt::stemp_epic_soilt.soilt_epic::b::-1\": 1,\n",
    "        \"stemp_epic_soilt::stemp_epic_soilt.soilt_epic::bcv::-1\": 1,\n",
    "        \"stemp_epic_soilt::stemp_epic_soilt.soilt_epic::nlayr::-1\": 10,\n",
    "        \"stemp_epic_soilt::stemp_epic_soilt.soilt_epic::tma::-1\": [0, 0, 0, 0, 0],\n",
    "        \"stemp_epic_soilt::stemp_epic_soilt.soilt_epic::ww::-1\": 1,\n",
    "        \"stemp_epic_soilt::stemp_epic_soilt.soilt_epic::b::-1\": 0,\n",
    "        \"stemp_epic_soilt::stemp_epic_soilt.soilt_epic::cumdpt::-1\": 1,\n",
    "        \"stemp_epic_soilt::stemp_epic_soilt.soilt_epic::dp::-1\": 1,\n",
    "        \"stemp_epic_soilt::stemp_epic_soilt.soilt_epic::pesw::-1\": 1,\n",
    "        \"stemp_epic_soilt::stemp_epic_soilt.soilt_epic::wetday::-1\": 1,\n",
    "        \"stemp_epic_soilt::stemp_epic_soilt.soilt_epic::wft::-1\": 20,\n",
    "        \"stemp_epic_soilt::stemp_epic_soilt.soilt_epic::ww::-1\": 1,\n",
    "        \"stemp_epic_soilt::stemp_epic_soilt.soilt_epic::tav::-1\": 1,\n",
    "        \"stemp_epic_soilt::stemp_epic_soilt.soilt_epic::tmin::-1\": SADependentVariable(\n",
    "            \"stemp_epic_soilt::stemp_epic_soilt.soilt_epic::tmin::-1\",\n",
    "            [\"stemp_epic_soilt::stemp_epic_soilt.soilt_epic::tmax::-1\"],\n",
    "            lambda tmax: tmax - 5,\n",
    "        ),\n",
    "        \"stemp_epic_soilt::stemp_epic_soilt.soilt_epic::tavg::-1\": SADependentVariable(\n",
    "            \"stemp_epic_soilt::stemp_epic_soilt.soilt_epic::tavg::-1\",\n",
    "            [\n",
    "                \"stemp_epic_soilt::stemp_epic_soilt.soilt_epic::tmax::-1\",\n",
    "                \"stemp_epic_soilt::stemp_epic_soilt.soilt_epic::tav::-1\",\n",
    "            ],\n",
    "            lambda tmax, tav: (tmax + tav) / 2,\n",
    "        ),\n",
    "        \"stemp_epic_soilt::stemp_epic_soilt.soilt_epic::dsmid::-1\": SADependentVariable(\n",
    "            \"stemp_epic_soilt::stemp_epic_soilt.soilt_epic::dsmid::-1\",\n",
    "            [\"stemp_epic_soilt::stemp_epic_soilt.soilt_epic::nlayr::-1\"],\n",
    "            lambda nlayr: [0] * nlayr,\n",
    "        ),\n",
    "        \"stemp_epic_soilt::stemp_epic_soilt.soilt_epic::st::-1\": SADependentVariable(\n",
    "            \"stemp_epic_soilt::stemp_epic_soilt.soilt_epic::st::-1\",\n",
    "            [\"stemp_epic_soilt::stemp_epic_soilt.soilt_epic::nlayr::-1\"],\n",
    "            lambda nlayr: [0] * nlayr,\n",
    "        ),\n",
    "    }\n",
    "\n",
    "    output_base_names = [\"tma\", \"srftemp\", \"st\", \"x2_avg\"]\n",
    "\n",
    "    return (bounds, inputs, output_base_names)"
   ]
  },
  {
   "cell_type": "markdown",
   "id": "9291b2f5",
   "metadata": {},
   "source": [
    "Next, the location of the GrFN files and $N$, the number of samples to analyze when generating Si"
   ]
  },
  {
   "cell_type": "code",
   "execution_count": null,
   "id": "92c58944",
   "metadata": {},
   "outputs": [],
   "source": [
    "N = 10\n",
    "compute_S2 = False\n",
    "file = \"stemp_soilt--GrFN.json\"  # file location\n",
    "file_epic = \"stemp_epic_soilt--GrFN.json\"  # epic file location"
   ]
  },
  {
   "cell_type": "markdown",
   "id": "78c21b2d",
   "metadata": {},
   "source": [
    "The sensitivity analysis follows, and the results are formatted into pandas tables."
   ]
  },
  {
   "cell_type": "code",
   "execution_count": null,
   "id": "e785e015",
   "metadata": {},
   "outputs": [],
   "source": [
    "if file is not None:\n",
    "    results = sa_nb.run_sa(file, gather_stemp_soilt_inputs(), N, compute_S2)\n",
    "    if compute_S2:\n",
    "        (s1, s2, st) = sa_nb.pd_tables(results, compute_S2)\n",
    "    else:\n",
    "        (s1, st) = sa_nb.pd_tables(results, compute_S2)\n",
    "if file_epic is not None:\n",
    "    results_epic = sa_nb.run_sa(file_epic, gather_stemp_epic_soilt_inputs(), N, compute_S2)\n",
    "    if compute_S2:\n",
    "        (s1_epic, s2_epic, st_epic) = sa_nb.pd_tables(results_epic, compute_S2)\n",
    "    else:\n",
    "        (s1_epic, st_epic) = sa_nb.pd_tables(results_epic, compute_S2)"
   ]
  },
  {
   "cell_type": "markdown",
   "id": "5f7f91e2",
   "metadata": {},
   "source": [
    "The tables are displayed below."
   ]
  },
  {
   "cell_type": "code",
   "execution_count": null,
   "id": "433ad074",
   "metadata": {
    "scrolled": true
   },
   "outputs": [],
   "source": [
    "s1"
   ]
  },
  {
   "cell_type": "code",
   "execution_count": null,
   "id": "3deaae9d",
   "metadata": {},
   "outputs": [],
   "source": [
    "s1_epic"
   ]
  },
  {
   "cell_type": "code",
   "execution_count": null,
   "id": "1e383b91",
   "metadata": {},
   "outputs": [],
   "source": [
    "st"
   ]
  },
  {
   "cell_type": "code",
   "execution_count": null,
   "id": "6d1b240d",
   "metadata": {},
   "outputs": [],
   "source": [
    "st_epic"
   ]
  },
  {
   "cell_type": "code",
   "execution_count": null,
   "id": "3b6d769f",
   "metadata": {},
   "outputs": [],
   "source": [
    "s2"
   ]
  },
  {
   "cell_type": "code",
   "execution_count": null,
   "id": "68eb57cd",
   "metadata": {},
   "outputs": [],
   "source": [
    "s2_epic"
   ]
  },
  {
   "cell_type": "code",
   "execution_count": null,
   "id": "917bf1c4",
   "metadata": {},
   "outputs": [],
   "source": []
  }
 ],
 "metadata": {
  "kernelspec": {
   "display_name": "Python 3",
   "language": "python",
   "name": "python3"
  },
  "language_info": {
   "codemirror_mode": {
    "name": "ipython",
    "version": 3
   },
   "file_extension": ".py",
   "mimetype": "text/x-python",
   "name": "python",
   "nbconvert_exporter": "python",
   "pygments_lexer": "ipython3",
   "version": "3.8.6"
  }
 },
 "nbformat": 4,
 "nbformat_minor": 5
}
