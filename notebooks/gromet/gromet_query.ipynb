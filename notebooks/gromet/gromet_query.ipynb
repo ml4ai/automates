{
 "cells": [
  {
   "cell_type": "code",
   "execution_count": null,
   "id": "cb28d4a1",
   "metadata": {},
   "outputs": [],
   "source": [
    "from automates.program_analysis.JSON2GroMEt.json2gromet import json_to_gromet\n",
    "\n",
    "from automates.gromet.query import query"
   ]
  },
  {
   "cell_type": "markdown",
   "id": "dd7500dc",
   "metadata": {},
   "source": [
    "The following assumes that you have already generated the json (e.g., by running the notebook script `py_src_to_grometFN_JSON.ipynb`)"
   ]
  },
  {
   "cell_type": "code",
   "execution_count": null,
   "id": "2bde7b38",
   "metadata": {},
   "outputs": [],
   "source": [
    "gromet_fn_module = json_to_gromet(\"CHIME_SIR_while_loop--Gromet-FN-auto.json\")"
   ]
  },
  {
   "cell_type": "markdown",
   "id": "effee5ec",
   "metadata": {},
   "source": [
    "The following uses the simple query to collect all named output ports of a GrometFNModule.\n",
    "`nops` will hold a `List` of `Tuples`, where each tuple has the following format:\n",
    "```\n",
    "(<name_of_output_port>,    # named output port == a variable in source code\n",
    " <literal_value>,          # IF a literal value has been assigned, otherwise None\n",
    " <source_code_reference>)  # metadatum for the source code location of the assignment\n",
    "```"
   ]
  },
  {
   "cell_type": "code",
   "execution_count": null,
   "id": "48a1b401",
   "metadata": {},
   "outputs": [],
   "source": [
    "nops = query.collect_named_output_ports(gromet_fn_module)"
   ]
  },
  {
   "cell_type": "markdown",
   "id": "8432cd31",
   "metadata": {},
   "source": [
    "The following prints each name-output-port info tuple on a separate line."
   ]
  },
  {
   "cell_type": "code",
   "execution_count": null,
   "id": "a791a61d",
   "metadata": {},
   "outputs": [],
   "source": [
    "for nop in nops:\n",
    "    print(nop)"
   ]
  },
  {
   "cell_type": "markdown",
   "id": "8c8d4aec",
   "metadata": {},
   "source": [
    "If you have a local copy of the SKEMA release google drive contents on your computer, you can edit the `LOCAL_SKEMA_GOOGLE_DRIVE_ROOT` to point to your local copy, and then the rest of the paths should work. Tou can then try the above out on the simple examples (like `exp0`, `exp1` and `exp2`), where it is easy to trace from the source code to the extracted information here."
   ]
  },
  {
   "cell_type": "code",
   "execution_count": null,
   "id": "1b240716",
   "metadata": {},
   "outputs": [],
   "source": [
    "import os\n",
    "\n",
    "# The following should be edited to point to you own local path \n",
    "# to your local copy of the ASKEM-SKEMA google drive contents\n",
    "ROOT = \"/Users/claytonm/My Drive/ASKEM-SKEMA/data/\"\n",
    "\n",
    "EXP0_GROMET_JSON = os.path.join(ROOT, \"gromet/examples/exp0/FN_0.1.4/exp0--Gromet-FN-auto.json\")\n",
    "EXP1_GROMET_JSON = os.path.join(ROOT, \"gromet/examples/exp1/FN_0.1.4/exp1--Gromet-FN-auto.json\")\n",
    "EXP2_GROMET_JSON = os.path.join(ROOT, \"gromet/examples/exp2/FN_0.1.4/exp2--Gromet-FN-auto.json\")\n",
    "CHIME_SIR_GROMET_JSON = os.path.join(ROOT, \"epidemiology/CHIME/CHIME_SIR_model/gromet/FN_0.1.4/CHIME_SIR--Gromet-FN-auto.json\")"
   ]
  }
 ],
 "metadata": {
  "kernelspec": {
   "display_name": "Python 3 (ipykernel)",
   "language": "python",
   "name": "python3"
  },
  "language_info": {
   "codemirror_mode": {
    "name": "ipython",
    "version": 3
   },
   "file_extension": ".py",
   "mimetype": "text/x-python",
   "name": "python",
   "nbconvert_exporter": "python",
   "pygments_lexer": "ipython3",
   "version": "3.9.7"
  },
  "varInspector": {
   "cols": {
    "lenName": 16,
    "lenType": 16,
    "lenVar": 40
   },
   "kernels_config": {
    "python": {
     "delete_cmd_postfix": "",
     "delete_cmd_prefix": "del ",
     "library": "var_list.py",
     "varRefreshCmd": "print(var_dic_list())"
    },
    "r": {
     "delete_cmd_postfix": ") ",
     "delete_cmd_prefix": "rm(",
     "library": "var_list.r",
     "varRefreshCmd": "cat(var_dic_list()) "
    }
   },
   "types_to_exclude": [
    "module",
    "function",
    "builtin_function_or_method",
    "instance",
    "_Feature"
   ],
   "window_display": false
  }
 },
 "nbformat": 4,
 "nbformat_minor": 5
}
