{
 "cells": [
  {
   "cell_type": "markdown",
   "metadata": {},
   "source": [
    "# Multi-Model Analysis : Priestley-Taylor (PETPT) and Penaman-Monteith Based Models (PETPNO, PETPEN, PETDYN)\n",
    "This notebook focuses on answering the question: how can AutoMATES leverage the information extracted from source code and free text to improve modelers ability to visualize input sensitivity in a multiple crop models? We shall demonstrate the ability of AutoMATES to analyze these models from the DSST codebase. In addition, results of a comparative study of various models using global sensitivity analysis is also included in the document.\n",
    "\n",
    "## Visualization goals\n",
    "- Show that S1 analysis over the whole range of all variables demonstrates a high S1 value for TMAX\n",
    "- Show that we can use static program analysis to determine that TMAX controls a piecewise function\n",
    "- Show that we can use evidence from TR when breaking up the bound range of TMAX to reflect the piecewise nature of the function\n",
    "- Show the updated S1/S2 plots for the broken down ranges"
   ]
  },
  {
   "cell_type": "code",
   "execution_count": null,
   "metadata": {},
   "outputs": [],
   "source": [
    "from penman import SensitivityModel\n",
    "from model_analysis.visualization import SensitivityVisualizer\n",
    "from IPython.display import display\n",
    "\n",
    "##### List of Sample Sizes #####\n",
    "\n",
    "sample_list = [10**x for x in range(1, 6)]\n",
    "\n",
    "\n",
    "# Setting SA method to deploy\n",
    "method = 'Sobol'\n"
   ]
  },
  {
   "cell_type": "code",
   "execution_count": null,
   "metadata": {},
   "outputs": [],
   "source": [
    "# Choice of Model\n",
    "model = 'PETPT'\n",
    "\n",
    "# Using the full-range bounds at first\n",
    "bounds = {\n",
    "        'tmax':[-10.0, 50.0],\n",
    "        'tmin':[0.0, 23.9],\n",
    "        'srad': [2.45, 27.8],\n",
    "        'msalb': [0.18, 0.2],\n",
    "        'xhlai': [0.0, 4.77]\n",
    "    }\n",
    "\n",
    "SM = SensitivityModel(model, bounds, sample_list, method)\n",
    "\n",
    "decimal=4\n",
    "df_PETPT_S1, df_PETPT_ST = SM.generate_dataframe(decimal)\n",
    "\n",
    "indices_lst = SM.generate_indices()\n",
    "\n",
    "component = 'S1'\n",
    "SM.sensitivity_plots(indices_lst, component)\n",
    "component = 'S2'\n",
    "SM.sensitivity_plots(indices_lst, component)"
   ]
  },
  {
   "cell_type": "markdown",
   "metadata": {},
   "source": [
    "### Analysis of the above results\n",
    "As we can see from the S1 plot abovwe, it appears that TMAX and SRAD play critical roles in determining the uncertainty of the output here. We can inspect the source code using AutoMATES to try and determine why these two variables play such a significant role. Below is a code-block from the PETPT Fortran source code:\n",
    "```fortran\n",
    "      SLANG = SRAD*23.923\n",
    "      EEQ = SLANG*(2.04E-4-1.83E-4*ALBEDO)*(TD+29.0)\n",
    "      EO = EEQ*1.1\n",
    "\n",
    "      IF (TMAX .GT. 35.0) THEN\n",
    "        EO = EEQ*((TMAX-35.0)*0.05+1.1)\n",
    "      ELSE IF (TMAX .LT. 5.0) THEN\n",
    "        EO = EEQ*0.01*EXP(0.18*(TMAX+20.0))\n",
    "      ENDIF\n",
    "\n",
    "      EO = MAX(EO,0.0001)\n",
    "```\n",
    "In this code-block we can see that TMAX plays a critical role at the end of the PETPT function. This role is to divide the function into three piecewise components based upon the value of TMAX. AutoMATES can detect this using static code analysis on the conditional variables included in the model code.\n",
    "\n",
    "Using this along with text-reading knowledge of the parameter bounds for TMAX, we can divide the total range of values for TMAX into three separate bound ranges that we can use for further analysis:\n",
    "1. -10.0ºC -- 5.0ºC\n",
    "2. 5.0ºC -- 35.0ºC\n",
    "3. 35.0ºC -- 55.0ºC\n",
    "\n",
    "Below we show the S1/S2 results for these three different bound ranges."
   ]
  },
  {
   "cell_type": "markdown",
   "metadata": {},
   "source": [
    "### Result Set 1 - TMAX : [5.0,  35.0]\n",
    "Notice for this first result set that we are working with non-extreme values of TMAX. When the values for TMAX are no longer extreme, we see that it drops off significantly from the S1 indices and allows other variables to show how much more of an important role they play in determining model output.\n",
    "\n",
    "#### Key insights\n",
    "- SRAD now dominates all other uncertainty sources in the S1 indices\n",
    "- The interaction between SRAD and TMAX is now shown to be an important S2 index"
   ]
  },
  {
   "cell_type": "code",
   "execution_count": null,
   "metadata": {},
   "outputs": [],
   "source": [
    "# Choosing the bound set\n",
    "bounds = {\n",
    "        'tmax':[5.0, 35.0],\n",
    "        'tmin':[0.0, 23.9],\n",
    "        'srad': [2.45, 27.8],\n",
    "        'msalb': [0.18, 0.2],\n",
    "        'xhlai': [0.0, 4.77]\n",
    "    }\n",
    "\n",
    "SM = SensitivityModel(model, bounds, sample_list, method)\n",
    "\n",
    "decimal = 4\n",
    "df_PETPT_S1_set1, df_PETPT_ST_set1 = SM.generate_dataframe(decimal)\n",
    "\n",
    "indices_lst = SM.generate_indices()\n",
    "\n",
    "SM.sensitivity_plots(indices_lst, \"S1\")\n",
    "SM.sensitivity_plots(indices_lst, \"S2\")"
   ]
  },
  {
   "cell_type": "markdown",
   "metadata": {},
   "source": [
    "### Result Set 2 - TMAX : [-10.0,  4.99]\n",
    "For this result set we are looking at the extreme lower end of values for TMAX. Here we see that TMAX is an even greater contributor to S1 sensitivity than over the whole range. This is likely due to the scaling of EO done by an exponential term involving TMAX in this portion of the piecewise function."
   ]
  },
  {
   "cell_type": "code",
   "execution_count": null,
   "metadata": {},
   "outputs": [],
   "source": [
    "bounds = {\n",
    "        'tmax':[-10.0, 4.99],\n",
    "        'tmin':[0.0, 23.9],\n",
    "        'srad': [2.45, 27.8],\n",
    "        'msalb': [0.18, 0.2],\n",
    "        'xhlai': [0.0, 4.77]\n",
    "    }\n",
    "\n",
    "SM = SensitivityModel(model, bounds, sample_list, method)\n",
    "\n",
    "decimal=4\n",
    "df_PETPT_S1_set2, df_PETPT_ST_set2 = SM.generate_dataframe(decimal)\n",
    "\n",
    "indices_lst = SM.generate_indices()\n",
    "\n",
    "SM.sensitivity_plots(indices_lst, \"S1\")\n",
    "SM.sensitivity_plots(indices_lst, \"S2\")"
   ]
  },
  {
   "cell_type": "markdown",
   "metadata": {},
   "source": [
    "### Result Set 3 - TMAX : [35.1,  55.0]\n",
    "Here we are testing the extreme high end of values for TMAX. For this bound range we are now observing:\n",
    "- SRAD is the largest contributor to the S1 sensitivity\n",
    "- TMAX is still a large contributor to the S1 sensitivity\n",
    "- The total S1 sensitivity has increased dramatically, causing a large decrease in S2 total sensitivity which lowers the impact of the TMAX/SRAD interaction term. This is likely due to the scaling of EO by TMAX in this branch of the piecewise function"
   ]
  },
  {
   "cell_type": "code",
   "execution_count": null,
   "metadata": {},
   "outputs": [],
   "source": [
    "bounds = {\n",
    "        'tmax':[35.1, 55.0],\n",
    "        'tmin':[0.0, 23.9],\n",
    "        'srad': [2.45, 27.8],\n",
    "        'msalb': [0.18, 0.2],\n",
    "        'xhlai': [0.0, 4.77]\n",
    "    }\n",
    "\n",
    "SM = SensitivityModel(model, bounds, sample_list, method)\n",
    "\n",
    "decimal=4\n",
    "df_PETPT_S1_set3, df_PETPT_ST_set3 = SM.generate_dataframe(decimal)\n",
    "\n",
    "indices_lst = SM.generate_indices()\n",
    "\n",
    "component = 'S1'\n",
    "SM.sensitivity_plots(indices_lst, component)\n",
    "component = 'S2'\n",
    "SM.sensitivity_plots(indices_lst, component)"
   ]
  },
  {
   "cell_type": "markdown",
   "metadata": {},
   "source": [
    "### XHLAI : [-5.0, 5.0]; TMAX : [5.0, 35.0]"
   ]
  },
  {
   "cell_type": "code",
   "execution_count": null,
   "metadata": {
    "scrolled": true
   },
   "outputs": [],
   "source": [
    "# Choosing the bound set\n",
    "bounds = {\n",
    "        'tmax':[5.0, 35.0],\n",
    "        'tmin':[0.0, 23.9],\n",
    "        'srad': [2.45, 27.8],\n",
    "        'msalb': [0.18, 0.2],\n",
    "        'xhlai': [-5.0, 5.0]\n",
    "    }\n",
    "\n",
    "SM = SensitivityModel(model, bounds, sample_list, method)\n",
    "decimal=4\n",
    "df_PETPT_S1_xhlai, df_PETPT_ST_xhlai = SM.generate_dataframe(decimal)\n",
    "indices_lst = SM.generate_indices()\n",
    "\n",
    "SM.sensitivity_plots(indices_lst, \"S1\")\n",
    "SM.sensitivity_plots(indices_lst, \"S2\")"
   ]
  },
  {
   "cell_type": "markdown",
   "metadata": {},
   "source": [
    "### SRAD : [0.0, 5.0]; TMAX : [5.0, 35.0]"
   ]
  },
  {
   "cell_type": "code",
   "execution_count": null,
   "metadata": {},
   "outputs": [],
   "source": [
    "model='PETPT'\n",
    "bounds = {\n",
    "        'tmax':[5.0, 35.0],\n",
    "        'tmin':[0.0, 23.9],\n",
    "        'srad': [0.0, 5.0],\n",
    "        'msalb': [0.18, 0.2],\n",
    "        'xhlai': [0.0, 4.77]\n",
    "    }\n",
    "\n",
    "SM = SensitivityModel(model, bounds, sample_list, method)\n",
    "\n",
    "decimal=4\n",
    "df_PETPT_S1_srad, df_PETPT_ST_srad = SM.generate_dataframe(decimal)\n",
    "\n",
    "indices_lst = SM.generate_indices()\n",
    "\n",
    "SM.sensitivity_plots(indices_lst, \"S1\")\n",
    "SM.sensitivity_plots(indices_lst, \"S2\")"
   ]
  },
  {
   "cell_type": "markdown",
   "metadata": {},
   "source": [
    "## PETPNO"
   ]
  },
  {
   "cell_type": "markdown",
   "metadata": {},
   "source": [
    "### Result Set 1 - TMAX  : [5.0,  35.0]\n",
    "\n",
    "- SRAD still has the highest S1 index\n",
    "- TMAX, TMIN, TDEW, CLOUDS all have moderately strong indices\n",
    "- (TMAX, SRAD), (TDEW, SRAD) have S2 indices above 0.01 cut-off"
   ]
  },
  {
   "cell_type": "code",
   "execution_count": null,
   "metadata": {},
   "outputs": [],
   "source": [
    "model = 'PETPNO'\n",
    "\n",
    "bounds = {\n",
    "        'tmax':[5.0, 35.0],\n",
    "        'tmin':[0.0, 23.9],\n",
    "        'srad': [2.45, 27.8],\n",
    "        'msalb': [0.18, 0.2],\n",
    "        'xhlai': [0.0, 4.77],\n",
    "        'tavg': [8.0, 31],\n",
    "        'tdew': [8.0, 31],\n",
    "        'windsp': [0.0, 10.0],\n",
    "        'clouds': [0.0, 1.0]\n",
    "    }\n",
    "\n",
    "SM = SensitivityModel(model, bounds, sample_list, method)\n",
    "\n",
    "decimal=4\n",
    "df_PETPNO_S1_set1, df_PETPNO_ST_set1 = SM.generate_dataframe(decimal)\n",
    "\n",
    "indices_lst = SM.generate_indices()\n",
    "\n",
    "SM.sensitivity_plots(indices_lst, \"S1\")\n",
    "SM.sensitivity_plots(indices_lst, \"S2\")"
   ]
  },
  {
   "cell_type": "markdown",
   "metadata": {},
   "source": [
    "### Result Set 2  -  TMAX : [-10.0,  4.99]\n",
    "\n",
    "- SRAD still has the largest S1 index but lower than in the previous case\n",
    "- TMAX, TMIN have large S1 indices\n",
    "- (TMIN, SRAD), (TDEW, SRAD) S2 indices have increased significantly"
   ]
  },
  {
   "cell_type": "code",
   "execution_count": null,
   "metadata": {},
   "outputs": [],
   "source": [
    "bounds = {\n",
    "        'tmax':[-10.0, 4.99],\n",
    "        'tmin':[0.0, 23.9],\n",
    "        'srad': [2.45, 27.8],\n",
    "        'msalb': [0.18, 0.2],\n",
    "        'xhlai': [0.0, 4.77],\n",
    "        'tavg': [8.0, 31],\n",
    "        'tdew': [8.0, 31],\n",
    "        'windsp': [0.0, 10.0],\n",
    "        'clouds': [0.0, 1.0]\n",
    "    }\n",
    "\n",
    "SM = SensitivityModel(model, bounds, sample_list, method)\n",
    "\n",
    "decimal=4\n",
    "df_PETPNO_S1_set2, df_PETPNO_ST_set2 = SM.generate_dataframe(decimal=4)\n",
    "\n",
    "indices_lst = SM.generate_indices()\n",
    "\n",
    "SM.sensitivity_plots(indices_lst, \"S1\")\n",
    "SM.sensitivity_plots(indices_lst, \"S2\")"
   ]
  },
  {
   "cell_type": "markdown",
   "metadata": {},
   "source": [
    "### Result Set 3 - TMAX : [35.1,  55.0]\n",
    "\n",
    "- SRAD has maximum S1 and close to 1.0 signifying that the majority of contribution to sensitivity stems from this parameter \n",
    "\n",
    "- CLOUDS, TMAX has moderately strong S1 index"
   ]
  },
  {
   "cell_type": "code",
   "execution_count": null,
   "metadata": {},
   "outputs": [],
   "source": [
    "bounds = {\n",
    "        'tmax':[35.1, 55.0],\n",
    "        'tmin':[0.0, 23.9],\n",
    "        'srad': [2.45, 27.8],\n",
    "        'msalb': [0.18, 0.2],\n",
    "        'xhlai': [0.0, 4.77],\n",
    "        'tavg': [8.0, 31],\n",
    "        'tdew': [8.0, 31],\n",
    "        'windsp': [0.0, 10.0],\n",
    "        'clouds': [0.0, 1.0]\n",
    "    }\n",
    "\n",
    "SM = SensitivityModel(model, bounds, sample_list, method)\n",
    "\n",
    "decimal=4\n",
    "df_PETPNO_S1_set3, df_PETPNO_ST_set3 = SM.generate_dataframe(decimal)\n",
    "\n",
    "indices_lst = SM.generate_indices()\n",
    "\n",
    "SM.sensitivity_plots(indices_lst, \"S1\")\n",
    "SM.sensitivity_plots(indices_lst, \"S2\")"
   ]
  },
  {
   "cell_type": "markdown",
   "metadata": {},
   "source": [
    "### XHLAI : [-5.0,  5.0] ; TMAX : [5.0,  35.0]\n",
    "\n",
    "There exists a conditional (shown below) in PETPNO which alters the function of EO. We take negative values of XHLAI to probe whether it affects the analysis. TMAX values have been taken from Result Set 1\n",
    "\n",
    "- No significant change is observed"
   ]
  },
  {
   "cell_type": "markdown",
   "metadata": {},
   "source": [
    "``` fortran\n",
    "      IF (XHLAI .LE. 0.0) THEN\n",
    "        ALBEDO = MSALB\n",
    "      ELSE\n",
    "        ALBEDO = 0.23-(0.23-MSALB)*EXP(-0.75*XHLAI)\n",
    "      ENDIF\n",
    "\n",
    "```"
   ]
  },
  {
   "cell_type": "code",
   "execution_count": null,
   "metadata": {},
   "outputs": [],
   "source": [
    "bounds = {\n",
    "        'tmax':[5.0, 35.0],\n",
    "        'tmin':[0.0, 23.9],\n",
    "        'srad': [2.45, 27.8],\n",
    "        'msalb': [0.18, 0.2],\n",
    "        'xhlai': [-5.0, 5.0],\n",
    "        'tavg': [8.0, 31],\n",
    "        'tdew': [8.0, 31],\n",
    "        'windsp': [0.0, 10.0],\n",
    "        'clouds': [0.0, 1.0]\n",
    "    }\n",
    "\n",
    "SM = SensitivityModel(model, bounds, sample_list, method)\n",
    "\n",
    "decimal=4\n",
    "df_PETPNO_S1_xhlai, df_PETPNO_ST_xhlai = SM.generate_dataframe(decimal)\n",
    "\n",
    "indices_lst = SM.generate_indices()\n",
    "\n",
    "SM.sensitivity_plots(indices_lst, \"S1\")\n",
    "SM.sensitivity_plots(indices_lst, \"S2\")"
   ]
  },
  {
   "cell_type": "markdown",
   "metadata": {},
   "source": [
    "### SRAD : [0.0,  5.0];  TMAX : [5.0,  35.0]\n",
    "\n",
    "Severely restricting the range of SRAD changes the S1 vs log(N) profile appreciably. This is interesting since the only place SRAD appears in the code is in the assignment of RNET :\n",
    "```fortran\n",
    "      RNET= (1.0-ALBEDO)*SRAD - RADB\n",
    "```\n",
    "\n",
    "What it simply tells us is that the extent to which SRAD can contribute to the variance in the output depends enormously on its bounds."
   ]
  },
  {
   "cell_type": "code",
   "execution_count": null,
   "metadata": {},
   "outputs": [],
   "source": [
    "model = 'PETPNO'\n",
    "bounds = {\n",
    "        'tmax':[5.0, 35.0],\n",
    "        'tmin':[0.0, 23.9],\n",
    "        'srad': [0.0, 5.0],\n",
    "        'msalb': [0.18, 0.2],\n",
    "        'xhlai': [0.0, 4.77],\n",
    "        'tavg': [8.0, 31],\n",
    "        'tdew': [8.0, 31],\n",
    "        'windsp': [0.0, 10.0],\n",
    "        'clouds': [0.0, 1.0]\n",
    "    }\n",
    "\n",
    "SM = SensitivityModel(model, bounds, sample_list, method)\n",
    "\n",
    "decimal=4\n",
    "df_PETPNO_S1_srad, df_PETPNO_ST_srad = SM.generate_dataframe(decimal)\n",
    "\n",
    "indices_lst = SM.generate_indices()\n",
    "\n",
    "SM.sensitivity_plots(indices_lst, \"S1\")\n",
    "SM.sensitivity_plots(indices_lst, \"S2\")"
   ]
  },
  {
   "cell_type": "markdown",
   "metadata": {},
   "source": [
    "## PETPEN "
   ]
  },
  {
   "cell_type": "markdown",
   "metadata": {},
   "source": [
    "### Result Set 1  -  TMAX : [5.0,  35.0}\n",
    "\n",
    "- SRAD yet again has the highest S1 index\n",
    "- EORATIO has a large S1 index unqiue to PETPEN\n",
    "- (VAPR, CLOUDS), (EORATIO, XHLAI), (EORATIO, SRAD) have significant S2 indices "
   ]
  },
  {
   "cell_type": "code",
   "execution_count": null,
   "metadata": {},
   "outputs": [],
   "source": [
    "model = 'PETPEN'\n",
    "\n",
    "bounds = {\n",
    "        'tmax':[5.0, 35.0],\n",
    "        'tmin':[0.0, 23.9],\n",
    "        'srad': [2.45, 27.8],\n",
    "        'msalb': [0.18, 0.2],\n",
    "        'xhlai': [0.0, 4.77],\n",
    "        'tavg': [8.0, 31],\n",
    "        'tdew': [8.0, 31],\n",
    "        'windsp': [0.0, 10.0],\n",
    "        'windht': [1.0, 25.0],\n",
    "        'vapr': [0.0, 20.0],\n",
    "        'clouds': [0.0, 1.0],\n",
    "        'eoratio': [0.0, 2.0]\n",
    "}\n",
    "\n",
    "\n",
    "\n",
    "SM = SensitivityModel(model, bounds, sample_list, method)\n",
    "\n",
    "decimal=4\n",
    "df_PETPEN_S1_set1, df_PETPEN_ST_set1 = SM.generate_dataframe(decimal)\n",
    "\n",
    "indices_lst = SM.generate_indices()\n",
    "\n",
    "SM.sensitivity_plots(indices_lst, \"S1\")\n",
    "SM.sensitivity_plots(indices_lst, \"S2\")"
   ]
  },
  {
   "cell_type": "markdown",
   "metadata": {},
   "source": [
    "### Result Set 2  -  TMAX : [-10.0,  4.99]\n",
    "\n",
    "- SRAD still has the highest S1 index\n",
    "- S2 values of relevant pairs are similar"
   ]
  },
  {
   "cell_type": "code",
   "execution_count": null,
   "metadata": {},
   "outputs": [],
   "source": [
    "bounds = {\n",
    "        'tmax':[-10.0, 4.99],\n",
    "        'tmin':[0.0, 23.9],\n",
    "        'srad': [2.45, 27.8],\n",
    "        'msalb': [0.18, 0.2],\n",
    "        'xhlai': [0.0, 4.77],\n",
    "        'tavg': [8.0, 31],\n",
    "        'tdew': [8.0, 31],\n",
    "        'windsp': [0.0, 10.0],\n",
    "        'windht': [1.0, 25.0],\n",
    "        'vapr': [0.0, 20.0],\n",
    "        'clouds': [0.0, 1.0],\n",
    "        'eoratio': [0.0, 2.0]\n",
    "}\n",
    "\n",
    "\n",
    "\n",
    "SM = SensitivityModel(model, bounds, sample_list, method)\n",
    "\n",
    "decimal=4\n",
    "df_PETPEN_S1_set2, df_PETPEN_ST_set2 = SM.generate_dataframe(decimal)\n",
    "\n",
    "indices_lst = SM.generate_indices()\n",
    "\n",
    "SM.sensitivity_plots(indices_lst, \"S1\")\n",
    "SM.sensitivity_plots(indices_lst, \"S2\")"
   ]
  },
  {
   "cell_type": "markdown",
   "metadata": {},
   "source": [
    "### Result Set 3  -  TMAX : [35.1,  55.0]\n",
    "\n",
    "-  SRAD has the highest S1\n",
    "- Trend in S2 does not appear to change appreciably"
   ]
  },
  {
   "cell_type": "code",
   "execution_count": null,
   "metadata": {},
   "outputs": [],
   "source": [
    "bounds = {\n",
    "        'tmax':[35.1, 55.0],\n",
    "        'tmin':[0.0, 23.9],\n",
    "        'srad': [2.45, 27.8],\n",
    "        'msalb': [0.18, 0.2],\n",
    "        'xhlai': [0.0, 4.77],\n",
    "        'tavg': [8.0, 31],\n",
    "        'tdew': [8.0, 31],\n",
    "        'windsp': [0.0, 10.0],\n",
    "        'windht': [1.0, 25.0],\n",
    "        'vapr': [0.0, 20.0],\n",
    "        'clouds': [0.0, 1.0],\n",
    "        'eoratio': [0.0, 2.0]\n",
    "}\n",
    "\n",
    "\n",
    "\n",
    "SM = SensitivityModel(model, bounds, sample_list, method)\n",
    "\n",
    "decimal=4\n",
    "df_PETPEN_S1_set3, df_PETPEN_ST_set3 = SM.generate_dataframe(decimal)\n",
    "\n",
    "indices_lst = SM.generate_indices()\n",
    "\n",
    "SM.sensitivity_plots(indices_lst, \"S1\")\n",
    "SM.sensitivity_plots(indices_lst, \"S2\")"
   ]
  },
  {
   "cell_type": "markdown",
   "metadata": {},
   "source": [
    "### XHLAI : [-5.0,  5.0] ; TMAX : [5.0,  35.0]\n",
    "\n",
    "We repeat the same trials as was done in previous models where based on conditional statements, we vary the input parameter interval ranges to see if that causes any change in the ranking of the sensitivity indices.\n",
    "\n",
    "```fortran\n",
    "      IF (XHLAI .LE. 0.0) THEN\n",
    "        ALBEDO = MSALB\n",
    "      ELSE\n",
    "        ALBEDO = 0.23-(0.23-SALB)*EXP(-0.75*XHLAI)\n",
    "        ALBEDO = 0.23\n",
    "      ENDIF\n",
    "```"
   ]
  },
  {
   "cell_type": "code",
   "execution_count": null,
   "metadata": {},
   "outputs": [],
   "source": [
    "bounds = {\n",
    "        'tmax':[5.0, 35.0],\n",
    "        'tmin':[0.0, 23.9],\n",
    "        'srad': [2.45, 27.8],\n",
    "        'msalb': [0.18, 0.2],\n",
    "        'xhlai': [-5.0, 5.0],\n",
    "        'tavg': [8.0, 31],\n",
    "        'tdew': [8.0, 31],\n",
    "        'windsp': [0.0, 10.0],\n",
    "        'windht': [1.0, 25.0],\n",
    "        'vapr': [0.0, 20.0],\n",
    "        'clouds': [0.0, 1.0],\n",
    "        'eoratio': [0.0, 2.0]\n",
    "}\n",
    "\n",
    "\n",
    "\n",
    "SM = SensitivityModel(model, bounds, sample_list, method)\n",
    "\n",
    "decimal=4\n",
    "df_PETPEN_S1_xhlai, df_PETPEN_ST_xhlai = SM.generate_dataframe(decimal)\n",
    "\n",
    "indices_lst = SM.generate_indices()\n",
    "\n",
    "SM.sensitivity_plots(indices_lst, \"S1\")\n",
    "SM.sensitivity_plots(indices_lst, \"S2\")"
   ]
  },
  {
   "cell_type": "markdown",
   "metadata": {},
   "source": [
    "### SRAD:  [0.0,  5.0] ; TMAX : [5.0,  35.0]\n",
    "\n",
    "-  Changing the interval range of SRAD dramatically alters the Sobol index ranking. S1 contribution from SRAD is decreased significantly.\n",
    "\n",
    "-  Again, if one looks at the PETPEN Fortran code, SRAD appears in the assignment of RNET as seen in PETPNO\n",
    "\n",
    "```fortran\n",
    "      RNET= (1.0-ALBEDO)*SRAD - RADB\n",
    "```"
   ]
  },
  {
   "cell_type": "code",
   "execution_count": null,
   "metadata": {},
   "outputs": [],
   "source": [
    "bounds = {\n",
    "        'tmax':[5.0, 35.0],\n",
    "        'tmin':[0.0, 23.9],\n",
    "        'srad': [0.0, 5.0],\n",
    "        'msalb': [0.18, 0.2],\n",
    "        'xhlai': [0.0, 4.77],\n",
    "        'tavg': [8.0, 31],\n",
    "        'tdew': [8.0, 31],\n",
    "        'windsp': [0.0, 10.0],\n",
    "        'windht': [1.0, 25.0],\n",
    "        'vapr': [0.0, 20.0],\n",
    "        'clouds': [0.0, 1.0],\n",
    "        'eoratio': [0.0, 2.0]\n",
    "}\n",
    "\n",
    "\n",
    "\n",
    "SM = SensitivityModel(model, bounds, sample_list, method)\n",
    "\n",
    "decimal=4\n",
    "df_PETPEN_S1_srad, df_PETPEN_ST_srad = SM.generate_dataframe(decimal)\n",
    "\n",
    "indices_lst = SM.generate_indices()\n",
    "\n",
    "SM.sensitivity_plots(indices_lst, \"S1\")\n",
    "SM.sensitivity_plots(indices_lst, \"S2\")"
   ]
  },
  {
   "cell_type": "markdown",
   "metadata": {},
   "source": [
    "## PETDYN"
   ]
  },
  {
   "cell_type": "markdown",
   "metadata": {},
   "source": [
    "### Result Set 1 - TMAX : [5.0,  35.0]\n",
    "\n",
    "-  SRAD has an overwhelming contribution to the overall variance\n",
    "- All other sobol indices are relatively insignificant in comparison to SRAD "
   ]
  },
  {
   "cell_type": "code",
   "execution_count": null,
   "metadata": {
    "scrolled": false
   },
   "outputs": [],
   "source": [
    "model = 'PETDYN'\n",
    "\n",
    "bounds = {\n",
    "        'tmax':[5.0, 35.0],\n",
    "        'tmin':[0.0, 23.9],\n",
    "        'srad': [2.45, 27.8],\n",
    "        'msalb': [0.18, 0.2],\n",
    "        'xhlai': [0.0, 4.77],\n",
    "        'tavg': [8.0, 31],\n",
    "        'tdew': [8.0, 31],\n",
    "        'windsp': [0.0, 10.0],\n",
    "        'clouds': [0.0, 1.0],\n",
    "        'canht': [0.0, 5.0]\n",
    "}\n",
    "\n",
    "SM = SensitivityModel(model, bounds, sample_list, method)\n",
    "\n",
    "decimal=4\n",
    "df_PETDYN_S1_set1, df_PETDYN_ST_set1 = SM.generate_dataframe(decimal)\n",
    "\n",
    "indices_lst = SM.generate_indices()\n",
    "\n",
    "SM.sensitivity_plots(indices_lst, \"S1\")\n",
    "SM.sensitivity_plots(indices_lst, \"S2\")"
   ]
  },
  {
   "cell_type": "markdown",
   "metadata": {},
   "source": [
    "### Result Set 2 - TMAX : [-10.0,  4.99]\n",
    "\n",
    "- Even with a different range of TMAX, S1 from SRAD is the largest. "
   ]
  },
  {
   "cell_type": "code",
   "execution_count": null,
   "metadata": {},
   "outputs": [],
   "source": [
    "bounds = {\n",
    "        'tmax':[-10.0, 4.99],\n",
    "        'tmin':[0.0, 23.9],\n",
    "        'srad': [2.45, 27.8],\n",
    "        'msalb': [0.18, 0.2],\n",
    "        'xhlai': [0.0, 4.77],\n",
    "        'tavg': [8.0, 31],\n",
    "        'tdew': [8.0, 31],\n",
    "        'windsp': [0.0, 10.0],\n",
    "        'clouds': [0.0, 1.0],\n",
    "        'canht': [0.0, 5.0]\n",
    "}\n",
    "\n",
    "SM = SensitivityModel(model, bounds, sample_list, method)\n",
    "\n",
    "decimal=4\n",
    "df_PETDYN_S1_set2, df_PETDYN_ST_set2 = SM.generate_dataframe(decimal)\n",
    "\n",
    "indices_lst = SM.generate_indices()\n",
    "\n",
    "SM.sensitivity_plots(indices_lst, \"S1\")\n",
    "SM.sensitivity_plots(indices_lst, \"S2\")"
   ]
  },
  {
   "cell_type": "markdown",
   "metadata": {},
   "source": [
    "### Result Set 3 - TMAX : [35.1,  55.0]\n",
    "\n",
    "- Across all ranges of TMAX, SRAD has the highest S1"
   ]
  },
  {
   "cell_type": "code",
   "execution_count": null,
   "metadata": {},
   "outputs": [],
   "source": [
    "bounds = {\n",
    "        'tmax':[35.1, 55.0],\n",
    "        'tmin':[0.0, 23.9],\n",
    "        'srad': [2.45, 27.8],\n",
    "        'msalb': [0.18, 0.2],\n",
    "        'xhlai': [0.0, 4.77],\n",
    "        'tavg': [8.0, 31],\n",
    "        'tdew': [8.0, 31],\n",
    "        'windsp': [0.0, 10.0],\n",
    "        'clouds': [0.0, 1.0],\n",
    "        'canht': [0.0, 5.0]\n",
    "}\n",
    "\n",
    "SM = SensitivityModel(model, bounds, sample_list, method)\n",
    "\n",
    "decimal=4\n",
    "df_PETDYN_S1_set3, df_PETDYN_ST_set3 = SM.generate_dataframe(decimal)\n",
    "\n",
    "indices_lst = SM.generate_indices()\n",
    "\n",
    "SM.sensitivity_plots(indices_lst, \"S1\")\n",
    "SM.sensitivity_plots(indices_lst, \"S2\")"
   ]
  },
  {
   "cell_type": "markdown",
   "metadata": {},
   "source": [
    "### SRAD : [0.0,  5.0] ; TMAX : [5.0,  35.0]\n",
    "\n",
    "- Severely constraining/restricting the interval range of SRAD, changes the S1 values of the parameters.\n",
    "- Most notably, SRAD S1 is lowered well below its previous values. S1 due to CLOUDS begin to dominate with the largest S1 index.\n",
    "- In the S2 matrix, (CLOUDS, SRAD) and (CLOUDS, TDEW) yield moderately large S2 values."
   ]
  },
  {
   "cell_type": "code",
   "execution_count": null,
   "metadata": {},
   "outputs": [],
   "source": [
    "bounds = {\n",
    "        'tmax':[5.0, 35.0],\n",
    "        'tmin':[0.0, 23.9],\n",
    "        'srad': [0.0, 5.0],\n",
    "        'msalb': [0.18, 0.2],\n",
    "        'xhlai': [0.0, 4.77],\n",
    "        'tavg': [8.0, 31],\n",
    "        'tdew': [8.0, 31],\n",
    "        'windsp': [0.0, 10.0],\n",
    "        'clouds': [0.0, 1.0],\n",
    "        'canht': [0.0, 5.0]\n",
    "}\n",
    "\n",
    "SM = SensitivityModel(model, bounds, sample_list, method)\n",
    "\n",
    "decimal=4\n",
    "df_PETDYN_S1_srad, df_PETDYN_ST_srad = SM.generate_dataframe(decimal)\n",
    "\n",
    "indices_lst = SM.generate_indices()\n",
    "\n",
    "SM.sensitivity_plots(indices_lst, \"S1\")\n",
    "SM.sensitivity_plots(indices_lst, \"S2\")"
   ]
  },
  {
   "cell_type": "markdown",
   "metadata": {},
   "source": [
    "## PETASCE"
   ]
  },
  {
   "cell_type": "markdown",
   "metadata": {},
   "source": [
    "### Result Set 1 - TMAX : [5.0,  35.0]\n",
    "\n",
    "-  SRAD has the largest S1 index\n",
    "-  In a slight departure from what has been observed up until now, XHLAI has a fairly contribution to the response variance.\n",
    "- The interaction of SRAD and XHLAI yields an S2 index above the threshol of. 0.01."
   ]
  },
  {
   "cell_type": "code",
   "execution_count": null,
   "metadata": {},
   "outputs": [],
   "source": [
    "model = 'PETASCE'\n",
    "\n",
    "bounds = {\n",
    "        'tmax':[5.0, 35.0],\n",
    "        'tmin':[0.0, 23.9],\n",
    "        'srad': [2.45, 27.8],\n",
    "        'msalb': [0.18, 0.2],\n",
    "        'xhlai': [0.0, 4.77],\n",
    "        'tdew': [8.0, 31],\n",
    "        'windht': [1.0, 25.0],\n",
    "        'windrun': [0, 900],\n",
    "        'xlat': [-65.0, 65.0],\n",
    "        'xelev': [0, 6000],\n",
    "        'canht': [0.0, 5.0],\n",
    "        'doy': [1, 365],\n",
    "        'meevp': [0, 1],\n",
    "}\n",
    "\n",
    "\n",
    "SM = SensitivityModel(model, bounds, sample_list, method)\n",
    "\n",
    "decimal=4\n",
    "df_PETASCE_S1_set1, df_PETASCE_ST_set1 = SM.generate_dataframe(decimal)\n",
    "\n",
    "indices_lst = SM.generate_indices()\n",
    "\n",
    "SM.sensitivity_plots(indices_lst, \"S1\")\n",
    "SM.sensitivity_plots(indices_lst, \"S2\")"
   ]
  },
  {
   "cell_type": "markdown",
   "metadata": {},
   "source": [
    "### Result Set 2 - TMAX : [-10.0,  4.99]\n",
    "\n",
    "- SRAD followed by XHLAI still have the highest S1 indices while (SRAD, XHLAI) pair has the largest S2 index."
   ]
  },
  {
   "cell_type": "code",
   "execution_count": null,
   "metadata": {},
   "outputs": [],
   "source": [
    "bounds = {\n",
    "        'tmax':[-10.0, 4.99],\n",
    "        'tmin':[0.0, 23.9],\n",
    "        'srad': [2.45, 27.8],\n",
    "        'msalb': [0.18, 0.2],\n",
    "        'xhlai': [0.0, 4.77],\n",
    "        'tdew': [8.0, 31],\n",
    "        'windht': [1.0, 25.0],\n",
    "        'windrun': [0, 900],\n",
    "        'xlat': [-65.0, 65.0],\n",
    "        'xelev': [0, 6000],\n",
    "        'canht': [0.0, 5.0],\n",
    "        'doy': [1, 365],\n",
    "        'meevp': [0, 1],\n",
    "}\n",
    "\n",
    "\n",
    "SM = SensitivityModel(model, bounds, sample_list, method)\n",
    "\n",
    "decimal=4\n",
    "df_PETASCE_S1_set2, df_PETASCE_ST_set2 = SM.generate_dataframe(decimal)\n",
    "\n",
    "indices_lst = SM.generate_indices()\n",
    "\n",
    "SM.sensitivity_plots(indices_lst, \"S1\")\n",
    "SM.sensitivity_plots(indices_lst, \"S2\")"
   ]
  },
  {
   "cell_type": "markdown",
   "metadata": {},
   "source": [
    "### Result Set 3 -  TMAX : [35.1,  55.0]"
   ]
  },
  {
   "cell_type": "code",
   "execution_count": null,
   "metadata": {},
   "outputs": [],
   "source": [
    "bounds = {\n",
    "        'tmax':[35.1, 55.0],\n",
    "        'tmin':[0.0, 23.9],\n",
    "        'srad': [2.45, 27.8],\n",
    "        'msalb': [0.18, 0.2],\n",
    "        'xhlai': [0.0, 4.77],\n",
    "        'tdew': [8.0, 31],\n",
    "        'windht': [1.0, 25.0],\n",
    "        'windrun': [0, 900],\n",
    "        'xlat': [-65.0, 65.0],\n",
    "        'xelev': [0, 6000],\n",
    "        'canht': [0.0, 5.0],\n",
    "        'doy': [1, 365],\n",
    "        'meevp': [0, 1],\n",
    "}\n",
    "\n",
    "\n",
    "SM = SensitivityModel(model, bounds, sample_list, method)\n",
    "\n",
    "decimal=4\n",
    "df_PETASCE_S1_set3, df_PETASCE_ST_set3 = SM.generate_dataframe(decimal)\n",
    "\n",
    "indices_lst = SM.generate_indices()\n",
    "\n",
    "SM.sensitivity_plots(indices_lst, \"S1\")\n",
    "SM.sensitivity_plots(indices_lst, \"S2\")"
   ]
  },
  {
   "cell_type": "markdown",
   "metadata": {},
   "source": [
    "### XHLAI : [-5.0,  5.0]; TMAX : [5.0,   35.0]\n",
    "\n",
    "Varying the lower bound of XHLAI produces interesting results. We should expect slight changes in the values of indices since it has already been established that XHLAI is an important factor while determining output variance. Static code analysis reveals that condiitonal statements within the code involves XHLAI in two different places as shown below :\n",
    "\n",
    "```fortran\n",
    "      IF (XHLAI .LE. 0.0) THEN\n",
    "        ALBEDO = MSALB\n",
    "      ELSE\n",
    "        ALBEDO = 0.23\n",
    "      ENDIF\n",
    "      RNS = (1.0-ALBEDO)*SRAD !MJ/m2/d\n",
    "```\n",
    "\n",
    "```fortran\n",
    "      IF (XHLAI .LE. 0.0) THEN\n",
    "         KCB = 0.0\n",
    "      ELSE\n",
    "         !DeJonge et al. (2012) equation\n",
    "         KCB = MAX(0.0,KCBMIN+(KCBMAX-KCBMIN)*(1.0-EXP(-1.0*SKC*XHLAI)))\n",
    "      ENDIF\n",
    "```\n",
    "\n",
    "These dependencies affect the outcome while computing Sobol indices.\n",
    "\n",
    "- XHLAI index is raised significantly while S1 of SRAD is lowered simultaneously in this regime. However, SRAD's index is still higher than that of XHLAI as was seen in Penman-Monteith models."
   ]
  },
  {
   "cell_type": "code",
   "execution_count": null,
   "metadata": {},
   "outputs": [],
   "source": [
    "bounds = {\n",
    "        'tmax':[5.0, 35.0],\n",
    "        'tmin':[0.0, 23.9],\n",
    "        'srad': [2.45, 27.8],\n",
    "        'msalb': [0.18, 0.2],\n",
    "        'xhlai': [-5.0, 5.0],\n",
    "        'tdew': [8.0, 31],\n",
    "        'windht': [1.0, 25.0],\n",
    "        'windrun': [0, 900],\n",
    "        'xlat': [-65.0, 65.0],\n",
    "        'xelev': [0, 6000],\n",
    "        'canht': [0.0, 5.0],\n",
    "        'doy': [1, 365],\n",
    "        'meevp': [0, 1],\n",
    "}\n",
    "\n",
    "\n",
    "SM = SensitivityModel(model, bounds, sample_list, method)\n",
    "\n",
    "decimal=4\n",
    "df_PETASCE_S1_xhlai, df_PETASCE_ST_xhlai = SM.generate_dataframe(decimal)\n",
    "\n",
    "indices_lst = SM.generate_indices()\n",
    "\n",
    "SM.sensitivity_plots(indices_lst, \"S1\")\n",
    "SM.sensitivity_plots(indices_lst, \"S2\")"
   ]
  },
  {
   "cell_type": "markdown",
   "metadata": {},
   "source": [
    "### SRAD : [0.0,  5.0] ; TMAX : [5.0,  35.0]"
   ]
  },
  {
   "cell_type": "code",
   "execution_count": null,
   "metadata": {},
   "outputs": [],
   "source": [
    "bounds = {\n",
    "        'tmax':[5.0, 35.0],\n",
    "        'tmin':[0.0, 23.9],\n",
    "        'srad': [0.0, 5.0],\n",
    "        'msalb': [0.18, 0.2],\n",
    "        'xhlai': [0.0, 4.77],\n",
    "        'tdew': [8.0, 31],\n",
    "        'windht': [1.0, 25.0],\n",
    "        'windrun': [0, 900],\n",
    "        'xlat': [-65.0, 65.0],\n",
    "        'xelev': [0, 6000],\n",
    "        'canht': [0.0, 5.0],\n",
    "        'doy': [1, 365],\n",
    "        'meevp': [0, 1],\n",
    "}\n",
    "\n",
    "\n",
    "SM = SensitivityModel(model, bounds, sample_list, method)\n",
    "\n",
    "decimal=4\n",
    "df_PETASCE_S1_srad, df_PETASCE_ST_srad = SM.generate_dataframe(decimal)\n",
    "\n",
    "indices_lst = SM.generate_indices()\n",
    "\n",
    "SM.sensitivity_plots(indices_lst, \"S1\")\n",
    "SM.sensitivity_plots(indices_lst, \"S2\")"
   ]
  },
  {
   "cell_type": "markdown",
   "metadata": {},
   "source": [
    "## Take Home Message"
   ]
  },
  {
   "cell_type": "markdown",
   "metadata": {},
   "source": [
    "In this demo we have shown how an initial sensitivity analysis of a scientific model can inform which variables to search for when doing single-variable range analysis. AutoMATES enables us to search the source code of the model automatically to determine where in the code variables with high S1 sensitivites cause functional differences. Using the parameter estimation from the TR component of AutoMATES and static progam analysis from the PA component of AutoMATES we can then perform a second set of sensitivty analysis upon a broken up range of the variable in question. This allows AutoMATES to deliver deeper insights about the sensitivity of a scientific model to its inputs without requiring a modeler to:\n",
    "- manualy trek through the model code searching for the variable interactions of highest interest\n",
    "- find correct bound parameters for variables of interest in the literature\n",
    "- create new sensitivity analysis experiments as appropriate for the new ranges of a variable of interest\n",
    "\n",
    "Key Insights:\n",
    "- TMAX is the most important factor in Priestley-Taylor model\n",
    "- Changes in the interval range of TMAX can significantly modify the order of Sobol indices.  For example, in the interval range [-10.0, 4.99], SRAD has a higher Sobol index.\n",
    "- SRAD is the most dominant factor in all Penman-Monteith based models as well as in PETASCE. \n",
    "- Changes in TMAX or XHLAI do not alter the Ranking of Sensitivity Indices of SRAD  in PETPNO, PETPEN, PETDYN, and. PETASCE.\n",
    "- In Penman models, changes in the interval ranges of SRAD can significantly alter the first and second order indices of SRAD as expected. Static code analysis however shows that SRAD do not appear in any conditional statements that will lead to evaulation of the response funciton (EO) in a piecewise manner. In all three cases, SRAD appears in the assignment of RNET and EO shares a linear relationship with RNET and hence SRAD.\n",
    "\n",
    "PETPNO\n",
    "--\n",
    "``` fortran\n",
    "      RNET= (1.0-ALBEDO)*SRAD - RADB\n",
    "      WFNFAO = 0.0027 * (1.0+0.01*WINDSP)\n",
    "      RNETMG = (RNET-G) / LHVAP * 1.0E6\n",
    "      EO = (S*RNETMG + PSYCON*WFNFAO*VPD) / (S+PSYCON)\n",
    "```\n",
    "PETPEN\n",
    "--\n",
    "\n",
    "```fortran\n",
    "      RNET= (1.0-ALBEDO)*SRAD - RADB\n",
    "      RNETMG = (RNET-G)\n",
    "      ET0 = ((S*RNETMG + (DAIR*SHAIR*VPD)/ra)/(S+PSYCON*(1+rs/ra)))\n",
    "      ET0 = ET0/ (LHVAP / 1000000.)\n",
    "      KC=1.0+(EORATIO-1.0)*MIN(XHLAI, 6)/6.0\n",
    "      EO=ET0*KC\n",
    "```\n",
    "PETDYN\n",
    "--\n",
    "```fortran\n",
    "      RNET= (1.0-ALBEDO)*SRAD - RADB\n",
    "      RNETMG = (RNET-G)      \n",
    "      EO=((S*RNETMG + (DAIR*SHAIR*VPD)/RAERO)/(S+PSYCON*(1+RTOT/RAERO))) (PETDYN)\n",
    "```\n",
    "\n",
    "- In PETASCE, changes in SRAD/TMAX/XHLAI interval bounds do not alter the ranking of indices at all."
   ]
  },
  {
   "cell_type": "markdown",
   "metadata": {},
   "source": [
    "## Results for TMAX : [5.0, 35.0]\n",
    "\n",
    "- Tables below with a list of ST (total sensitivity index due to a parameter) and the first order indices (S1) for each model - PETPT, PETPNO, PETPEN, PETDYN, and PETASCE have been provided can summarize our results.\n",
    "- SRAD in all cases has the highest ST and S1 indices within this range of TMAX"
   ]
  },
  {
   "cell_type": "markdown",
   "metadata": {},
   "source": [
    "## 1. ST"
   ]
  },
  {
   "cell_type": "code",
   "execution_count": null,
   "metadata": {},
   "outputs": [],
   "source": [
    "from soboltable import table\n",
    "\n",
    "frames = [df_PETPT_ST_set1, df_PETPNO_ST_set1, df_PETPEN_ST_set1, df_PETDYN_ST_set1, df_PETASCE_ST_set1]\n",
    "\n",
    "Table = table(frames)\n",
    "Table.style.highlight_max(color='lightgreen', axis=1)\n"
   ]
  },
  {
   "cell_type": "markdown",
   "metadata": {},
   "source": [
    "## 2. S1"
   ]
  },
  {
   "cell_type": "code",
   "execution_count": null,
   "metadata": {},
   "outputs": [],
   "source": [
    "frames = [df_PETPT_S1_set1, df_PETPNO_S1_set1, df_PETPEN_S1_set1, df_PETDYN_S1_set1, df_PETASCE_S1_set1]\n",
    "Table = table(frames)\n",
    "Table.style.highlight_max(color='lightgreen', axis=1)"
   ]
  },
  {
   "cell_type": "markdown",
   "metadata": {},
   "source": [
    "## Results for TMAX : [-10.0,  4.99]\n",
    "\n",
    "- Using a different interval range of TMAX, PETPT S1 and ST values change considerably. Unlike the previous table, we see that TMAX in PETPT has the highest ST and S1. \n",
    "- However, in Peman-Monteith based models, i.e., PETPNO, PETPEN, PETDYN, SRAD still has the highest ST and S1 in all cases. \n",
    "- This is because that while TMAX and SRAD are the most influential parameters in PETPT and Penman models (PETPNO, PETPEN, PETDYN). As a result, changes in interval ranges of TMAX do not affect the ordering of Sobol indices in the latter models whereas it has a massive effect on the indices of PETPT parameters."
   ]
  },
  {
   "cell_type": "markdown",
   "metadata": {},
   "source": [
    "## ST"
   ]
  },
  {
   "cell_type": "code",
   "execution_count": null,
   "metadata": {},
   "outputs": [],
   "source": [
    "frames = [df_PETPT_ST_set2, df_PETPNO_ST_set2, df_PETPEN_ST_set2, df_PETDYN_ST_set2, df_PETASCE_ST_set2]\n",
    "\n",
    "Table = table(frames)\n",
    "Table.style.highlight_max(color='lightgreen', axis=1)"
   ]
  },
  {
   "cell_type": "markdown",
   "metadata": {},
   "source": [
    "## S1"
   ]
  },
  {
   "cell_type": "code",
   "execution_count": null,
   "metadata": {},
   "outputs": [],
   "source": [
    "frames = [df_PETPT_S1_set2, df_PETPNO_S1_set2, df_PETPEN_S1_set2, df_PETDYN_S1_set2, df_PETASCE_S1_set2]\n",
    "Table = table(frames)\n",
    "Table.style.highlight_max(color='lightgreen', axis=1)"
   ]
  },
  {
   "cell_type": "markdown",
   "metadata": {},
   "source": [
    "## Results for SRAD : [0.0,  5.0] ; TMAX : [5.0,  35.0]\n",
    "\n",
    "- Altering the interval ranges of SRAD has a huge impact on PETPNO, PETPEN, and PETDYN. Table below shows that CLOUDS has the highest Sobol indices (both ST and S1).\n",
    "- Modifying the range of SRAD does not affect the ranking in PETPT or PETASCE"
   ]
  },
  {
   "cell_type": "markdown",
   "metadata": {},
   "source": [
    "## ST"
   ]
  },
  {
   "cell_type": "code",
   "execution_count": null,
   "metadata": {},
   "outputs": [],
   "source": [
    "frames = [df_PETPEN_ST_srad, df_PETDYN_ST_srad, df_PETPNO_ST_srad]\n",
    "Table = table(frames)\n",
    "Table.style.highlight_max(color='lightgreen', axis=1)"
   ]
  },
  {
   "cell_type": "code",
   "execution_count": null,
   "metadata": {},
   "outputs": [],
   "source": [
    "frames1 =[df_PETASCE_ST_srad]\n",
    "Table = table(frames1)\n",
    "Table.style.highlight_max(color='lightgreen', axis=1)"
   ]
  },
  {
   "cell_type": "code",
   "execution_count": null,
   "metadata": {},
   "outputs": [],
   "source": [
    "frames1 =[df_PETPT_ST_srad]\n",
    "Table = table(frames1)\n",
    "Table.style.highlight_max(color='lightgreen', axis=1)"
   ]
  },
  {
   "cell_type": "markdown",
   "metadata": {},
   "source": [
    "## S1"
   ]
  },
  {
   "cell_type": "code",
   "execution_count": null,
   "metadata": {},
   "outputs": [],
   "source": [
    "frames = [df_PETPEN_S1_srad, df_PETDYN_S1_srad, df_PETPNO_S1_srad]\n",
    "Table = table(frames)\n",
    "Table.style.highlight_max(color='lightgreen', axis=1)"
   ]
  },
  {
   "cell_type": "code",
   "execution_count": null,
   "metadata": {},
   "outputs": [],
   "source": [
    "frames1 =[df_PETASCE_S1_srad]\n",
    "Table = table(frames1)\n",
    "Table.style.highlight_max(color='lightgreen', axis=1)"
   ]
  },
  {
   "cell_type": "code",
   "execution_count": null,
   "metadata": {},
   "outputs": [],
   "source": [
    "frames1 =[df_PETPT_S1_srad]\n",
    "Table = table(frames1)\n",
    "Table.style.highlight_max(color='lightgreen', axis=1)"
   ]
  },
  {
   "cell_type": "markdown",
   "metadata": {},
   "source": [
    "## Final Result : Use \"Unrealistic\" Parameter Domains\n",
    "\n",
    "- To get a complete picture of the most dominant parameters in these models, an unrealistic set of parameters is used in each model to determine the overall importance.\n",
    "- As already mentioned, TMAX and SRAD have the largest Sobol indices in Priestley-Taylor and Penman-Monteith models, respectively. "
   ]
  },
  {
   "cell_type": "code",
   "execution_count": null,
   "metadata": {},
   "outputs": [],
   "source": [
    "model = 'PETPT'\n",
    "bounds = {\n",
    "        'tmax':[-30.0, 60.0],\n",
    "        'tmin':[-30.0, 60.0],\n",
    "        'srad': [0.0, 30.0],\n",
    "        'msalb': [0.0, 1.0],\n",
    "        'xhlai': [0.0, 20.0]\n",
    "    }\n",
    "\n",
    "\n",
    "SM = SensitivityModel(model, bounds, sample_list, method)\n",
    "decimal=4\n",
    "df_PETPT_S1_new, df_PETPT_ST_new = SM.generate_dataframe(decimal)\n",
    "\n",
    "model = 'PETPNO'\n",
    "bounds = {\n",
    "    'tmax':[-30.0, 60.0],\n",
    "    'tmin':[-30.0, 60.0],\n",
    "    'srad': [0.0, 30.0],\n",
    "    'msalb': [0.0, 1.0],\n",
    "    'xhlai': [0.0, 20.0],\n",
    "    'tavg': [-30, 60],\n",
    "    'tdew': [-30, 60],\n",
    "    'windsp': [0.0, 10.0],\n",
    "    'clouds': [0.0, 1.0]\n",
    "}\n",
    "\n",
    "SM = SensitivityModel(model, bounds, sample_list, method)\n",
    "df_PETPNO_S1_new, df_PETPNO_ST_new = SM.generate_dataframe(decimal)\n",
    "\n",
    "model = 'PETPEN'\n",
    "bounds = {\n",
    "    'tmax':[-30.0, 60.0],\n",
    "    'tmin':[-30.0, 60.0],\n",
    "    'srad': [0.0, 30.0],\n",
    "    'msalb': [0.0, 1.0],\n",
    "    'xhlai': [0.0, 20.0],\n",
    "    'tavg': [-30, 60],\n",
    "    'tdew': [-30, 60],\n",
    "    'windsp': [1.0, 10.0],\n",
    "    'windht': [1.0, 25.0],\n",
    "    'vapr': [0.0, 20.0],\n",
    "    'clouds': [0.0, 1.0],\n",
    "    'eoratio': [0.0, 2.0]\n",
    "}\n",
    "\n",
    "SM = SensitivityModel(model, bounds, sample_list, method)\n",
    "df_PETPEN_S1_new, df_PETPEN_ST_new = SM.generate_dataframe(decimal)\n",
    "\n",
    "\n",
    "model = 'PETDYN'\n",
    "bounds = {\n",
    "    'tmax':[-30.0, 60.0],\n",
    "    'tmin':[-30.0, 60.0],\n",
    "    'srad': [0.0, 30.0],\n",
    "    'msalb': [0.0, 1.0],\n",
    "    'xhlai': [0.0, 20.0],\n",
    "    'tavg': [-30, 60],\n",
    "    'tdew': [-30, 60],\n",
    "    'windsp': [0.0, 10.0],\n",
    "    'canht': [0.0, 5.0],\n",
    "    'clouds': [0.0, 1.0]\n",
    "}\n",
    "\n",
    "SM = SensitivityModel(model, bounds, sample_list, method)\n",
    "df_PETDYN_S1_new, df_PETDYN_ST_new = SM.generate_dataframe(decimal)\n",
    "\n",
    "model = 'PETASCE'\n",
    "bounds = {\n",
    "    'tmax':[-30.0, 60.0],\n",
    "    'tmin':[-30.0, 60.0],\n",
    "    'srad': [0.0, 30.0],\n",
    "    'msalb': [0.0, 1.0],\n",
    "    'xhlai': [0.0, 20.0],\n",
    "    'tdew': [-30, 60],\n",
    "    'canht': [0.0, 5.0],\n",
    "    'windht': [1.0, 25.0],\n",
    "    'windrun': [0, 900],\n",
    "    'xlat': [-65.0, 65.0],\n",
    "    'xelev': [0, 6000],\n",
    "    'doy': [1, 365],\n",
    "    'meevp': [0, 1]    \n",
    "}\n",
    "\n",
    "SM = SensitivityModel(model, bounds, sample_list, method)\n",
    "df_PETASCE_S1_new, df_PETASCE_ST_new = SM.generate_dataframe(decimal)"
   ]
  },
  {
   "cell_type": "markdown",
   "metadata": {},
   "source": [
    "## ST"
   ]
  },
  {
   "cell_type": "code",
   "execution_count": null,
   "metadata": {},
   "outputs": [],
   "source": [
    "frames = [df_PETPT_ST_new, df_PETPNO_ST_new, df_PETPEN_ST_new, df_PETDYN_ST_new, df_PETASCE_ST_new]\n",
    "\n",
    "Table = table(frames)\n",
    "Table.style.highlight_max(color='lightgreen', axis=1)"
   ]
  },
  {
   "cell_type": "markdown",
   "metadata": {},
   "source": [
    "## S1"
   ]
  },
  {
   "cell_type": "code",
   "execution_count": null,
   "metadata": {},
   "outputs": [],
   "source": [
    "frames = [df_PETPT_S1_new, df_PETPNO_S1_new, df_PETPEN_S1_new, df_PETDYN_S1_new, df_PETASCE_S1_new]\n",
    "\n",
    "Table = table(frames)\n",
    "Table.style.highlight_max(color='lightgreen', axis=1)"
   ]
  }
 ],
 "metadata": {
  "kernelspec": {
   "display_name": "Python 3",
   "language": "python",
   "name": "python3"
  },
  "language_info": {
   "codemirror_mode": {
    "name": "ipython",
    "version": 3
   },
   "file_extension": ".py",
   "mimetype": "text/x-python",
   "name": "python",
   "nbconvert_exporter": "python",
   "pygments_lexer": "ipython3",
   "version": "3.7.2"
  }
 },
 "nbformat": 4,
 "nbformat_minor": 4
}
